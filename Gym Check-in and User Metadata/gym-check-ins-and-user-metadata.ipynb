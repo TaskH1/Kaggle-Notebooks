{
 "cells": [
  {
   "cell_type": "code",
   "execution_count": 1,
   "id": "b6f687b5",
   "metadata": {
    "_cell_guid": "b1076dfc-b9ad-4769-8c92-a6c4dae69d19",
    "_uuid": "8f2839f25d086af736a60e9eeb907d3b93b6e0e5",
    "execution": {
     "iopub.execute_input": "2024-11-14T06:56:08.078079Z",
     "iopub.status.busy": "2024-11-14T06:56:08.077478Z",
     "iopub.status.idle": "2024-11-14T06:56:09.214266Z",
     "shell.execute_reply": "2024-11-14T06:56:09.212590Z"
    },
    "papermill": {
     "duration": 1.166434,
     "end_time": "2024-11-14T06:56:09.217456",
     "exception": false,
     "start_time": "2024-11-14T06:56:08.051022",
     "status": "completed"
    },
    "tags": []
   },
   "outputs": [
    {
     "name": "stdout",
     "output_type": "stream",
     "text": [
      "/kaggle/input/gym-check-ins-and-user-metadata/users_data.csv\n",
      "/kaggle/input/gym-check-ins-and-user-metadata/checkin_checkout_history_updated.csv\n",
      "/kaggle/input/gym-check-ins-and-user-metadata/gym_locations_data.csv\n",
      "/kaggle/input/gym-check-ins-and-user-metadata/subscription_plans.csv\n"
     ]
    }
   ],
   "source": [
    "# This Python 3 environment comes with many helpful analytics libraries installed\n",
    "# It is defined by the kaggle/python Docker image: https://github.com/kaggle/docker-python\n",
    "# For example, here's several helpful packages to load\n",
    "\n",
    "import numpy as np # linear algebra\n",
    "import pandas as pd # data processing, CSV file I/O (e.g. pd.read_csv)\n",
    "\n",
    "# Input data files are available in the read-only \"../input/\" directory\n",
    "# For example, running this (by clicking run or pressing Shift+Enter) will list all files under the input directory\n",
    "\n",
    "import os\n",
    "for dirname, _, filenames in os.walk('/kaggle/input'):\n",
    "    for filename in filenames:\n",
    "        print(os.path.join(dirname, filename))\n",
    "\n",
    "# You can write up to 20GB to the current directory (/kaggle/working/) that gets preserved as output when you create a version using \"Save & Run All\" \n",
    "# You can also write temporary files to /kaggle/temp/, but they won't be saved outside of the current session"
   ]
  },
  {
   "cell_type": "markdown",
   "id": "a3665eb6",
   "metadata": {
    "papermill": {
     "duration": 0.024651,
     "end_time": "2024-11-14T06:56:09.268702",
     "exception": false,
     "start_time": "2024-11-14T06:56:09.244051",
     "status": "completed"
    },
    "tags": []
   },
   "source": [
    "# 1. About Dataset\n",
    "Dataset Summary: Gym Check-ins and User Metadata\n",
    "This synthetic dataset represents gym check-ins and user metadata, split across four CSV files. It simulates gym activity across 10 different locations, featuring user details, gym attributes, and check-in history. The dataset now also includes information about different subscription plans.\n",
    "\n",
    "\n",
    "## Data Description\n",
    "### Users Data\n",
    "This file contains detailed information about users who visit the gyms.\n",
    "\n",
    "user_id: Unique identifier for each user.\n",
    "\n",
    "first_name: First name of the user.\n",
    "\n",
    "last_name: Last name of the user.\n",
    "\n",
    "age: Age of the user.\n",
    "\n",
    "gender: Gender of the user (Male, Female, Non-binary).\n",
    "\n",
    "birthdate: Date of birth of the user.\n",
    "\n",
    "sign_up_date: Date when the user signed up for the gym membership.\n",
    "\n",
    "user_location: City where the user lives.\n",
    "\n",
    "subscription_plan: The user's gym subscription plan (Basic, Pro, Student).\n",
    "\n",
    "### Gym Locations Data\n",
    "This file describes the gyms and their locations.\n",
    "\n",
    "gym_id: Unique identifier for each gym.\n",
    "\n",
    "location: Real-world city where the gym is located (e.g., New York, Los Angeles).\n",
    "\n",
    "gym_type: The type of gym (Premium, Standard, Budget).\n",
    "\n",
    "facilities: List of facilities available at the gym (e.g., Swimming Pool, Sauna, Yoga Classes).\n",
    "\n",
    "### Check-in/Checkout History\n",
    "This file tracks user check-ins and check-outs at the gyms.\n",
    "\n",
    "user_id: ID of the user who checked in.\n",
    "\n",
    "gym_id: ID of the gym where the check-in occurred.\n",
    "\n",
    "checkin_time: Timestamp of when the user checked in.\n",
    "\n",
    "checkout_time: Timestamp of when the user checked out.\n",
    "\n",
    "workout_type: Type of workout performed during the visit (e.g., Cardio, Weightlifting, Yoga).\n",
    "\n",
    "calories_burned: Estimated number of calories burned during the workout.\n",
    "\n",
    "### Subscription Plans\n",
    "This file provides a description of the different subscription plans available to gym members.\n",
    "\n",
    "subscription_plan: The name of the subscription plan (Basic, Pro, Student).\n",
    "\n",
    "price_per_month: Price per month in Dollar\n",
    "\n",
    "features: Which features are present in this subsription"
   ]
  },
  {
   "cell_type": "markdown",
   "id": "79ac2f86",
   "metadata": {
    "papermill": {
     "duration": 0.025592,
     "end_time": "2024-11-14T06:56:09.319021",
     "exception": false,
     "start_time": "2024-11-14T06:56:09.293429",
     "status": "completed"
    },
    "tags": []
   },
   "source": [
    "## 1. データセットの概要：ジムのチェックインとユーザーのメタデータ\n",
    "\n",
    "この合成データセットは、ジムのチェックインおよびユーザーのメタデータを4つのCSVファイルに分割したものです。10か所の異なるジムでの活動をシミュレートしており、ユーザーの詳細、ジムの属性、チェックイン履歴、さらに異なるサブスクリプションプランに関する情報が含まれています。\n",
    "\n",
    "データの説明\n",
    "\n",
    "ユーザーデータ\n",
    "\n",
    "このファイルにはジムを利用するユーザーの詳細な情報が含まれています。\n",
    "\n",
    "\t•\tuser_id: 各ユーザーのid\n",
    "\t•\tfirst_name: ユーザーの名前。\n",
    "\t•\tlast_name: ユーザーの姓。\n",
    "\t•\tage: ユーザーの年齢。\n",
    "\t•\tgender: ユーザーの性別（男性、女性、ノンバイナリー）。\n",
    "\t•\tbirthdate: ユーザーの生年月日。\n",
    "\t•\tsign_up_date: ユーザーがジムのメンバーシップに登録した日。\n",
    "\t•\tuser_location: ユーザーが住んでいる都市。\n",
    "\t•\tsubscription_plan: ユーザーのジムのサブスクリプションプラン（ベーシック、プロ、学生）。\n",
    "\n",
    "ジムのロケーションデータ\n",
    "\n",
    "このファイルにはジムの所在地と詳細情報が含まれています。\n",
    "\n",
    "\t•\tgym_id: 各ジムのid\n",
    "\t•\tlocation: ジムがある実際の都市（例：ニューヨーク、ロサンゼルス）。\n",
    "\t•\tgym_type: ジムの種類（プレミアム、スタンダード、バジェット）。\n",
    "\t•\tfacilities: ジムにある設備の一覧（例：プール、サウナ、ヨガクラス）。\n",
    "\n",
    "チェックイン・チェックアウト履歴\n",
    "\n",
    "このファイルは、ジムでのユーザーのチェックイン・チェックアウトを追跡します。\n",
    "\n",
    "\t•\tuser_id: チェックインしたユーザーのID。\n",
    "\t•\tgym_id: チェックインが行われたジムのID。\n",
    "\t•\tcheckin_time: ユーザーがチェックインした時刻のタイムスタンプ。\n",
    "\t•\tcheckout_time: ユーザーがチェックアウトした時刻のタイムスタンプ。\n",
    "\t•\tworkout_type: 訪問時に行ったワークアウトの種類（例：カーディオ、ウェイトリフティング、ヨガ）。\n",
    "\t•\tcalories_burned: ワークアウト中に消費した推定カロリー数。\n",
    "\n",
    "サブスクリプションプラン\n",
    "\n",
    "このファイルには、ジム会員向けの異なるサブスクリプションプランの説明が含まれています。\n",
    "\n",
    "\t•\tsubscription_plan: サブスクリプションプランの名前（ベーシック、プロ、学生）。\n",
    "\t•\tprice_per_month: 月額料金（ドル）。\n",
    "\t•\tfeatures: そのプランに含まれている機能。"
   ]
  },
  {
   "cell_type": "markdown",
   "id": "e6aad43b",
   "metadata": {
    "papermill": {
     "duration": 0.024978,
     "end_time": "2024-11-14T06:56:09.369496",
     "exception": false,
     "start_time": "2024-11-14T06:56:09.344518",
     "status": "completed"
    },
    "tags": []
   },
   "source": [
    "# 2. Frame the Problem and Look at the Big Picture\n",
    "\n",
    "## 1. Objective in business terms.\n",
    "The object is to increase the gym-memberships sign-ups and enhanse member retention by understandings user behaviors and preferences.\n",
    "## 2. How will the solution be used?\n",
    "By predicting the future user behavior and identifying patterns, the gym could design targeted campaign and refine strategies to increas memberships and retain existing users effectively.\n",
    "## 3. Frame the problem.\n",
    "This problem can likely be approached as a supervised learning problem, as the aim is to predict user behavior based on the historical data. Additionally, a combination of classification and regression might be benefitial.\n",
    "## 4. How I should measure?\n",
    "• Accuracy and F1 score for Classification Algorithms \n",
    "• MAE(Mean Absolute Error) and RMSA(Random Mean Square Error) for Regression Algorithms\n",
    "## 5. Is the Performance Measure aligned with business objective?\n",
    "Yes, the metrics like accuracy score and F1 Score can align with anticipating and understanding user behaviors, allowing for effective, data driven decisions on campaign and retention strategies.\n",
    "## 6. What would be the minimum performance needed to reach the business objective?\n",
    "The minimum performance would be acheiving the accuracy score or F1 Score that exceeds the baseline. For regression, the MAE and RMSE that minimize the errors to degree where insights are actionable would be good.\n",
    "## 7. How would you solve the problem manually?\n",
    "Exploring the data, analyzing user behavior like check-in and check-out time, subscription class, and so on. And classify the user into certain groups, making business strategy that efficient for each groups of users.\n",
    "## 8. List the assumption I have made so far.\n",
    "• Users frequently check-in are less likely to cancel their subscripiton.\n",
    "• User behavior can be influenced by workout-type, gender, and location.\n",
    "• Subscriptino Plan plays a crucial role in achieving business objectives."
   ]
  },
  {
   "cell_type": "markdown",
   "id": "ad04bff7",
   "metadata": {
    "papermill": {
     "duration": 0.023978,
     "end_time": "2024-11-14T06:56:09.417480",
     "exception": false,
     "start_time": "2024-11-14T06:56:09.393502",
     "status": "completed"
    },
    "tags": []
   },
   "source": [
    "## 2. 問題の枠組みと全体像の確認\n",
    "\n",
    "\n",
    "\n",
    "  1.\tビジネス目標:\n",
    "目的は、ユーザーの行動や好みを理解することでジム会員の登録数を増やし、既存会員の維持率を向上させることです。\n",
    "\t\n",
    "  2.\t解決策の活用方法:\n",
    "将来のユーザー行動を予測し、パターンを特定することで、ジムはターゲットを絞ったキャンペーンを企画し、会員数の増加と既存会員の効果的な維持に向けて戦略を改善できます。\n",
    "\n",
    "3.\t問題の枠組み:\n",
    "この問題は、過去のデータに基づいてユーザーの行動を予測することを目的とした、教師あり学習問題としてアプローチできる可能性があります。また、分類と回帰の組み合わせが有益かもしれません。\n",
    "\t\n",
    " 4.\t評価方法:\n",
    "\t•\t分類アルゴリズムの場合：正解率（Accuracy）とF1スコア\n",
    "\t•\t回帰アルゴリズムの場合：MAE（平均絶対誤差）およびRMSE（平方平均二乗誤差）\n",
    "\t\n",
    " 5.\tビジネス目標に評価指標は一致しているか:\n",
    "はい、正解率やF1スコアのような指標は、ユーザー行動を予測し理解するためのものであり、データに基づくキャンペーンや会員維持戦略の決定に役立ちます。\n",
    "\t\n",
    " 6.\tビジネス目標を達成するための最低限のパフォーマンスは？:\n",
    "最低限のパフォーマンスとして、分類では基準値を超える正解率やF1スコアが必要です。回帰では、MAEやRMSEが誤差を最小限に抑え、行動可能なインサイトが得られるレベルが望ましいです。\n",
    "\t\n",
    " 7.\t手動で問題を解決するとしたら？:\n",
    "データを探索し、チェックイン・チェックアウト時間やサブスクリプションクラスなどのユーザー行動を分析します。そして、ユーザーを特定のグループに分類し、各グループに最適なビジネス戦略を立てます。\n",
    "\t\n",
    " 8.\tこれまでに仮定したこと:\n",
    "\t•\t頻繁にチェックインするユーザーは、会員を解約する可能性が低い。\n",
    "\t•\tユーザー行動は、ワークアウトの種類、性別、所在地の影響を受ける可能性がある。\n",
    "\t•\tサブスクリプションプランは、ビジネス目標の達成に重要な役割を果たす。"
   ]
  },
  {
   "cell_type": "markdown",
   "id": "f5053eea",
   "metadata": {
    "papermill": {
     "duration": 0.024464,
     "end_time": "2024-11-14T06:56:09.468823",
     "exception": false,
     "start_time": "2024-11-14T06:56:09.444359",
     "status": "completed"
    },
    "tags": []
   },
   "source": [
    "# 3. Get the Data（データの取得）"
   ]
  },
  {
   "cell_type": "code",
   "execution_count": 2,
   "id": "d86c1e58",
   "metadata": {
    "execution": {
     "iopub.execute_input": "2024-11-14T06:56:09.523521Z",
     "iopub.status.busy": "2024-11-14T06:56:09.522782Z",
     "iopub.status.idle": "2024-11-14T06:56:10.596028Z",
     "shell.execute_reply": "2024-11-14T06:56:10.594194Z"
    },
    "papermill": {
     "duration": 1.103776,
     "end_time": "2024-11-14T06:56:10.599193",
     "exception": false,
     "start_time": "2024-11-14T06:56:09.495417",
     "status": "completed"
    },
    "tags": []
   },
   "outputs": [],
   "source": [
    "import pandas as pd\n",
    "\n",
    "users_data = pd.read_csv('/kaggle/input/gym-check-ins-and-user-metadata/users_data.csv')\n",
    "gym_location = pd.read_csv('/kaggle/input/gym-check-ins-and-user-metadata/gym_locations_data.csv')\n",
    "checkin_history = pd.read_csv('/kaggle/input/gym-check-ins-and-user-metadata/checkin_checkout_history_updated.csv')\n",
    "subscription_plans = pd.read_csv('/kaggle/input/gym-check-ins-and-user-metadata/subscription_plans.csv')"
   ]
  },
  {
   "cell_type": "code",
   "execution_count": 3,
   "id": "0f714d11",
   "metadata": {
    "execution": {
     "iopub.execute_input": "2024-11-14T06:56:10.651682Z",
     "iopub.status.busy": "2024-11-14T06:56:10.651215Z",
     "iopub.status.idle": "2024-11-14T06:56:10.679524Z",
     "shell.execute_reply": "2024-11-14T06:56:10.678385Z"
    },
    "papermill": {
     "duration": 0.057155,
     "end_time": "2024-11-14T06:56:10.682567",
     "exception": false,
     "start_time": "2024-11-14T06:56:10.625412",
     "status": "completed"
    },
    "tags": []
   },
   "outputs": [],
   "source": [
    "users_data_origin = users_data.copy()\n",
    "gym_location_origin = gym_location.copy()\n",
    "checkin_history_origin = checkin_history.copy()\n",
    "subscription_plans_origin = subscription_plans.copy()"
   ]
  },
  {
   "cell_type": "code",
   "execution_count": 4,
   "id": "03424f38",
   "metadata": {
    "execution": {
     "iopub.execute_input": "2024-11-14T06:56:10.734358Z",
     "iopub.status.busy": "2024-11-14T06:56:10.733953Z",
     "iopub.status.idle": "2024-11-14T06:56:10.761924Z",
     "shell.execute_reply": "2024-11-14T06:56:10.760643Z"
    },
    "jupyter": {
     "source_hidden": true
    },
    "papermill": {
     "duration": 0.057616,
     "end_time": "2024-11-14T06:56:10.764733",
     "exception": false,
     "start_time": "2024-11-14T06:56:10.707117",
     "status": "completed"
    },
    "tags": []
   },
   "outputs": [
    {
     "data": {
      "text/html": [
       "<div>\n",
       "<style scoped>\n",
       "    .dataframe tbody tr th:only-of-type {\n",
       "        vertical-align: middle;\n",
       "    }\n",
       "\n",
       "    .dataframe tbody tr th {\n",
       "        vertical-align: top;\n",
       "    }\n",
       "\n",
       "    .dataframe thead th {\n",
       "        text-align: right;\n",
       "    }\n",
       "</style>\n",
       "<table border=\"1\" class=\"dataframe\">\n",
       "  <thead>\n",
       "    <tr style=\"text-align: right;\">\n",
       "      <th></th>\n",
       "      <th>subscription_plan</th>\n",
       "      <th>price_per_month</th>\n",
       "      <th>features</th>\n",
       "    </tr>\n",
       "  </thead>\n",
       "  <tbody>\n",
       "    <tr>\n",
       "      <th>0</th>\n",
       "      <td>Basic</td>\n",
       "      <td>19.99</td>\n",
       "      <td>Access to basic gym facilities, Limited class ...</td>\n",
       "    </tr>\n",
       "    <tr>\n",
       "      <th>1</th>\n",
       "      <td>Pro</td>\n",
       "      <td>49.99</td>\n",
       "      <td>Access to all facilities, Unlimited class acce...</td>\n",
       "    </tr>\n",
       "    <tr>\n",
       "      <th>2</th>\n",
       "      <td>Student</td>\n",
       "      <td>9.99</td>\n",
       "      <td>Access to basic facilities, Limited class acce...</td>\n",
       "    </tr>\n",
       "  </tbody>\n",
       "</table>\n",
       "</div>"
      ],
      "text/plain": [
       "  subscription_plan  price_per_month  \\\n",
       "0             Basic            19.99   \n",
       "1               Pro            49.99   \n",
       "2           Student             9.99   \n",
       "\n",
       "                                            features  \n",
       "0  Access to basic gym facilities, Limited class ...  \n",
       "1  Access to all facilities, Unlimited class acce...  \n",
       "2  Access to basic facilities, Limited class acce...  "
      ]
     },
     "execution_count": 4,
     "metadata": {},
     "output_type": "execute_result"
    }
   ],
   "source": [
    "subscription_plans.head()"
   ]
  },
  {
   "cell_type": "code",
   "execution_count": 5,
   "id": "3e91778e",
   "metadata": {
    "execution": {
     "iopub.execute_input": "2024-11-14T06:56:10.815790Z",
     "iopub.status.busy": "2024-11-14T06:56:10.815312Z",
     "iopub.status.idle": "2024-11-14T06:56:10.824401Z",
     "shell.execute_reply": "2024-11-14T06:56:10.823108Z"
    },
    "papermill": {
     "duration": 0.03865,
     "end_time": "2024-11-14T06:56:10.827443",
     "exception": false,
     "start_time": "2024-11-14T06:56:10.788793",
     "status": "completed"
    },
    "tags": []
   },
   "outputs": [
    {
     "data": {
      "text/html": [
       "\n",
       "<style>\n",
       "    table.dataframe th {\n",
       "        background-color: black !important;\n",
       "        color: white !important;\n",
       "    }\n",
       "</style>\n"
      ],
      "text/plain": [
       "<IPython.core.display.HTML object>"
      ]
     },
     "execution_count": 5,
     "metadata": {},
     "output_type": "execute_result"
    }
   ],
   "source": [
    "from IPython.display import HTML\n",
    "\n",
    "# Inject CSS to change the header background color and font color for all DataFrames\n",
    "HTML(\"\"\"\n",
    "<style>\n",
    "    table.dataframe th {\n",
    "        background-color: black !important;\n",
    "        color: white !important;\n",
    "    }\n",
    "</style>\n",
    "\"\"\")"
   ]
  },
  {
   "cell_type": "markdown",
   "id": "d1b48c6f",
   "metadata": {
    "papermill": {
     "duration": 0.024758,
     "end_time": "2024-11-14T06:56:10.876400",
     "exception": false,
     "start_time": "2024-11-14T06:56:10.851642",
     "status": "completed"
    },
    "tags": []
   },
   "source": [
    "## Take a quick look at the data"
   ]
  },
  {
   "cell_type": "markdown",
   "id": "ce5cc4d9",
   "metadata": {
    "papermill": {
     "duration": 0.024093,
     "end_time": "2024-11-14T06:56:10.925447",
     "exception": false,
     "start_time": "2024-11-14T06:56:10.901354",
     "status": "completed"
    },
    "tags": []
   },
   "source": [
    "### • Users Data（ユーザーデータ）"
   ]
  },
  {
   "cell_type": "code",
   "execution_count": 6,
   "id": "f9ca8109",
   "metadata": {
    "execution": {
     "iopub.execute_input": "2024-11-14T06:56:10.977176Z",
     "iopub.status.busy": "2024-11-14T06:56:10.976735Z",
     "iopub.status.idle": "2024-11-14T06:56:11.005151Z",
     "shell.execute_reply": "2024-11-14T06:56:11.003909Z"
    },
    "papermill": {
     "duration": 0.058659,
     "end_time": "2024-11-14T06:56:11.007953",
     "exception": false,
     "start_time": "2024-11-14T06:56:10.949294",
     "status": "completed"
    },
    "tags": []
   },
   "outputs": [
    {
     "data": {
      "text/html": [
       "<div>\n",
       "<style scoped>\n",
       "    .dataframe tbody tr th:only-of-type {\n",
       "        vertical-align: middle;\n",
       "    }\n",
       "\n",
       "    .dataframe tbody tr th {\n",
       "        vertical-align: top;\n",
       "    }\n",
       "\n",
       "    .dataframe thead th {\n",
       "        text-align: right;\n",
       "    }\n",
       "</style>\n",
       "<table border=\"1\" class=\"dataframe\">\n",
       "  <thead>\n",
       "    <tr style=\"text-align: right;\">\n",
       "      <th></th>\n",
       "      <th>user_id</th>\n",
       "      <th>first_name</th>\n",
       "      <th>last_name</th>\n",
       "      <th>age</th>\n",
       "      <th>gender</th>\n",
       "      <th>birthdate</th>\n",
       "      <th>sign_up_date</th>\n",
       "      <th>user_location</th>\n",
       "      <th>subscription_plan</th>\n",
       "    </tr>\n",
       "  </thead>\n",
       "  <tbody>\n",
       "    <tr>\n",
       "      <th>0</th>\n",
       "      <td>user_1</td>\n",
       "      <td>Chris</td>\n",
       "      <td>Wilson</td>\n",
       "      <td>56</td>\n",
       "      <td>Female</td>\n",
       "      <td>2000-02-29</td>\n",
       "      <td>2023-02-06</td>\n",
       "      <td>Denver</td>\n",
       "      <td>Basic</td>\n",
       "    </tr>\n",
       "    <tr>\n",
       "      <th>1</th>\n",
       "      <td>user_2</td>\n",
       "      <td>Michael</td>\n",
       "      <td>Miller</td>\n",
       "      <td>46</td>\n",
       "      <td>Non-binary</td>\n",
       "      <td>1978-12-22</td>\n",
       "      <td>2023-08-08</td>\n",
       "      <td>Orlando</td>\n",
       "      <td>Pro</td>\n",
       "    </tr>\n",
       "    <tr>\n",
       "      <th>2</th>\n",
       "      <td>user_3</td>\n",
       "      <td>Daniel</td>\n",
       "      <td>Smith</td>\n",
       "      <td>32</td>\n",
       "      <td>Female</td>\n",
       "      <td>1962-08-30</td>\n",
       "      <td>2021-01-11</td>\n",
       "      <td>Orlando</td>\n",
       "      <td>Basic</td>\n",
       "    </tr>\n",
       "    <tr>\n",
       "      <th>3</th>\n",
       "      <td>user_4</td>\n",
       "      <td>David</td>\n",
       "      <td>Smith</td>\n",
       "      <td>60</td>\n",
       "      <td>Male</td>\n",
       "      <td>2003-12-05</td>\n",
       "      <td>2023-08-07</td>\n",
       "      <td>Denver</td>\n",
       "      <td>Pro</td>\n",
       "    </tr>\n",
       "    <tr>\n",
       "      <th>4</th>\n",
       "      <td>user_5</td>\n",
       "      <td>Chris</td>\n",
       "      <td>Jones</td>\n",
       "      <td>25</td>\n",
       "      <td>Female</td>\n",
       "      <td>2004-08-25</td>\n",
       "      <td>2021-01-08</td>\n",
       "      <td>Denver</td>\n",
       "      <td>Basic</td>\n",
       "    </tr>\n",
       "    <tr>\n",
       "      <th>...</th>\n",
       "      <td>...</td>\n",
       "      <td>...</td>\n",
       "      <td>...</td>\n",
       "      <td>...</td>\n",
       "      <td>...</td>\n",
       "      <td>...</td>\n",
       "      <td>...</td>\n",
       "      <td>...</td>\n",
       "      <td>...</td>\n",
       "    </tr>\n",
       "    <tr>\n",
       "      <th>4995</th>\n",
       "      <td>user_4996</td>\n",
       "      <td>Sarah</td>\n",
       "      <td>Williams</td>\n",
       "      <td>33</td>\n",
       "      <td>Male</td>\n",
       "      <td>1958-01-13</td>\n",
       "      <td>2021-08-08</td>\n",
       "      <td>Las Vegas</td>\n",
       "      <td>Basic</td>\n",
       "    </tr>\n",
       "    <tr>\n",
       "      <th>4996</th>\n",
       "      <td>user_4997</td>\n",
       "      <td>Linda</td>\n",
       "      <td>Brown</td>\n",
       "      <td>22</td>\n",
       "      <td>Male</td>\n",
       "      <td>1974-02-20</td>\n",
       "      <td>2023-01-22</td>\n",
       "      <td>Austin</td>\n",
       "      <td>Student</td>\n",
       "    </tr>\n",
       "    <tr>\n",
       "      <th>4997</th>\n",
       "      <td>user_4998</td>\n",
       "      <td>Emily</td>\n",
       "      <td>Miller</td>\n",
       "      <td>38</td>\n",
       "      <td>Non-binary</td>\n",
       "      <td>1978-03-29</td>\n",
       "      <td>2021-04-16</td>\n",
       "      <td>Atlanta</td>\n",
       "      <td>Pro</td>\n",
       "    </tr>\n",
       "    <tr>\n",
       "      <th>4998</th>\n",
       "      <td>user_4999</td>\n",
       "      <td>Robert</td>\n",
       "      <td>Garcia</td>\n",
       "      <td>27</td>\n",
       "      <td>Male</td>\n",
       "      <td>2002-02-01</td>\n",
       "      <td>2022-07-02</td>\n",
       "      <td>Denver</td>\n",
       "      <td>Pro</td>\n",
       "    </tr>\n",
       "    <tr>\n",
       "      <th>4999</th>\n",
       "      <td>user_5000</td>\n",
       "      <td>Chris</td>\n",
       "      <td>Smith</td>\n",
       "      <td>36</td>\n",
       "      <td>Male</td>\n",
       "      <td>1959-11-21</td>\n",
       "      <td>2022-02-20</td>\n",
       "      <td>Seattle</td>\n",
       "      <td>Student</td>\n",
       "    </tr>\n",
       "  </tbody>\n",
       "</table>\n",
       "<p>5000 rows × 9 columns</p>\n",
       "</div>"
      ],
      "text/plain": [
       "        user_id first_name last_name  age      gender   birthdate  \\\n",
       "0        user_1      Chris    Wilson   56      Female  2000-02-29   \n",
       "1        user_2    Michael    Miller   46  Non-binary  1978-12-22   \n",
       "2        user_3     Daniel     Smith   32      Female  1962-08-30   \n",
       "3        user_4      David     Smith   60        Male  2003-12-05   \n",
       "4        user_5      Chris     Jones   25      Female  2004-08-25   \n",
       "...         ...        ...       ...  ...         ...         ...   \n",
       "4995  user_4996      Sarah  Williams   33        Male  1958-01-13   \n",
       "4996  user_4997      Linda     Brown   22        Male  1974-02-20   \n",
       "4997  user_4998      Emily    Miller   38  Non-binary  1978-03-29   \n",
       "4998  user_4999     Robert    Garcia   27        Male  2002-02-01   \n",
       "4999  user_5000      Chris     Smith   36        Male  1959-11-21   \n",
       "\n",
       "     sign_up_date user_location subscription_plan  \n",
       "0      2023-02-06        Denver             Basic  \n",
       "1      2023-08-08       Orlando               Pro  \n",
       "2      2021-01-11       Orlando             Basic  \n",
       "3      2023-08-07        Denver               Pro  \n",
       "4      2021-01-08        Denver             Basic  \n",
       "...           ...           ...               ...  \n",
       "4995   2021-08-08     Las Vegas             Basic  \n",
       "4996   2023-01-22        Austin           Student  \n",
       "4997   2021-04-16       Atlanta               Pro  \n",
       "4998   2022-07-02        Denver               Pro  \n",
       "4999   2022-02-20       Seattle           Student  \n",
       "\n",
       "[5000 rows x 9 columns]"
      ]
     },
     "execution_count": 6,
     "metadata": {},
     "output_type": "execute_result"
    }
   ],
   "source": [
    "users_data"
   ]
  },
  {
   "cell_type": "markdown",
   "id": "b35986f3",
   "metadata": {
    "papermill": {
     "duration": 0.024816,
     "end_time": "2024-11-14T06:56:11.060282",
     "exception": false,
     "start_time": "2024-11-14T06:56:11.035466",
     "status": "completed"
    },
    "tags": []
   },
   "source": [
    "This is a data of 5000 user demographic, giving insight into each users features, how long they have been in the membership and type of subscription plan. It appears that `age` and `birthdata` are redundunt, as they gave alomost same information. (5000人のユーザーデモグラフィックデータです。最終データ集計日までの会員期間と、サブスクプランのデータも含まれています。　年齢と誕生日カラムに関しては得られる情報は重複してます。)"
   ]
  },
  {
   "cell_type": "code",
   "execution_count": 7,
   "id": "e59fdfd3",
   "metadata": {
    "execution": {
     "iopub.execute_input": "2024-11-14T06:56:11.114952Z",
     "iopub.status.busy": "2024-11-14T06:56:11.113413Z",
     "iopub.status.idle": "2024-11-14T06:56:11.150146Z",
     "shell.execute_reply": "2024-11-14T06:56:11.148681Z"
    },
    "papermill": {
     "duration": 0.066099,
     "end_time": "2024-11-14T06:56:11.152924",
     "exception": false,
     "start_time": "2024-11-14T06:56:11.086825",
     "status": "completed"
    },
    "tags": []
   },
   "outputs": [
    {
     "name": "stdout",
     "output_type": "stream",
     "text": [
      "<class 'pandas.core.frame.DataFrame'>\n",
      "RangeIndex: 5000 entries, 0 to 4999\n",
      "Data columns (total 9 columns):\n",
      " #   Column             Non-Null Count  Dtype \n",
      "---  ------             --------------  ----- \n",
      " 0   user_id            5000 non-null   object\n",
      " 1   first_name         5000 non-null   object\n",
      " 2   last_name          5000 non-null   object\n",
      " 3   age                5000 non-null   int64 \n",
      " 4   gender             5000 non-null   object\n",
      " 5   birthdate          5000 non-null   object\n",
      " 6   sign_up_date       5000 non-null   object\n",
      " 7   user_location      5000 non-null   object\n",
      " 8   subscription_plan  5000 non-null   object\n",
      "dtypes: int64(1), object(8)\n",
      "memory usage: 351.7+ KB\n"
     ]
    }
   ],
   "source": [
    "users_data.info()"
   ]
  },
  {
   "cell_type": "markdown",
   "id": "64962d26",
   "metadata": {
    "papermill": {
     "duration": 0.026602,
     "end_time": "2024-11-14T06:56:11.204345",
     "exception": false,
     "start_time": "2024-11-14T06:56:11.177743",
     "status": "completed"
    },
    "tags": []
   },
   "source": [
    "### • Gym Location"
   ]
  },
  {
   "cell_type": "code",
   "execution_count": 8,
   "id": "013bb398",
   "metadata": {
    "execution": {
     "iopub.execute_input": "2024-11-14T06:56:11.256734Z",
     "iopub.status.busy": "2024-11-14T06:56:11.256279Z",
     "iopub.status.idle": "2024-11-14T06:56:11.271400Z",
     "shell.execute_reply": "2024-11-14T06:56:11.269950Z"
    },
    "papermill": {
     "duration": 0.045534,
     "end_time": "2024-11-14T06:56:11.274471",
     "exception": false,
     "start_time": "2024-11-14T06:56:11.228937",
     "status": "completed"
    },
    "tags": []
   },
   "outputs": [
    {
     "data": {
      "text/html": [
       "<div>\n",
       "<style scoped>\n",
       "    .dataframe tbody tr th:only-of-type {\n",
       "        vertical-align: middle;\n",
       "    }\n",
       "\n",
       "    .dataframe tbody tr th {\n",
       "        vertical-align: top;\n",
       "    }\n",
       "\n",
       "    .dataframe thead th {\n",
       "        text-align: right;\n",
       "    }\n",
       "</style>\n",
       "<table border=\"1\" class=\"dataframe\">\n",
       "  <thead>\n",
       "    <tr style=\"text-align: right;\">\n",
       "      <th></th>\n",
       "      <th>gym_id</th>\n",
       "      <th>location</th>\n",
       "      <th>gym_type</th>\n",
       "      <th>facilities</th>\n",
       "    </tr>\n",
       "  </thead>\n",
       "  <tbody>\n",
       "    <tr>\n",
       "      <th>0</th>\n",
       "      <td>gym_1</td>\n",
       "      <td>New York</td>\n",
       "      <td>Premium</td>\n",
       "      <td>Climbing Wall, Swimming Pool, Basketball Court</td>\n",
       "    </tr>\n",
       "    <tr>\n",
       "      <th>1</th>\n",
       "      <td>gym_2</td>\n",
       "      <td>Los Angeles</td>\n",
       "      <td>Budget</td>\n",
       "      <td>Climbing Wall, Yoga Classes, Sauna</td>\n",
       "    </tr>\n",
       "    <tr>\n",
       "      <th>2</th>\n",
       "      <td>gym_3</td>\n",
       "      <td>Chicago</td>\n",
       "      <td>Budget</td>\n",
       "      <td>Sauna, Climbing Wall, Swimming Pool</td>\n",
       "    </tr>\n",
       "    <tr>\n",
       "      <th>3</th>\n",
       "      <td>gym_4</td>\n",
       "      <td>Houston</td>\n",
       "      <td>Premium</td>\n",
       "      <td>Climbing Wall, Basketball Court, Swimming Pool</td>\n",
       "    </tr>\n",
       "    <tr>\n",
       "      <th>4</th>\n",
       "      <td>gym_5</td>\n",
       "      <td>Phoenix</td>\n",
       "      <td>Standard</td>\n",
       "      <td>Basketball Court, CrossFit, Swimming Pool</td>\n",
       "    </tr>\n",
       "    <tr>\n",
       "      <th>5</th>\n",
       "      <td>gym_6</td>\n",
       "      <td>Philadelphia</td>\n",
       "      <td>Budget</td>\n",
       "      <td>Swimming Pool, Climbing Wall, Sauna</td>\n",
       "    </tr>\n",
       "    <tr>\n",
       "      <th>6</th>\n",
       "      <td>gym_7</td>\n",
       "      <td>San Antonio</td>\n",
       "      <td>Premium</td>\n",
       "      <td>Sauna, Basketball Court, Swimming Pool</td>\n",
       "    </tr>\n",
       "    <tr>\n",
       "      <th>7</th>\n",
       "      <td>gym_8</td>\n",
       "      <td>San Diego</td>\n",
       "      <td>Standard</td>\n",
       "      <td>Basketball Court, Sauna, CrossFit</td>\n",
       "    </tr>\n",
       "    <tr>\n",
       "      <th>8</th>\n",
       "      <td>gym_9</td>\n",
       "      <td>Dallas</td>\n",
       "      <td>Premium</td>\n",
       "      <td>Sauna, CrossFit, Yoga Classes</td>\n",
       "    </tr>\n",
       "    <tr>\n",
       "      <th>9</th>\n",
       "      <td>gym_10</td>\n",
       "      <td>San Jose</td>\n",
       "      <td>Premium</td>\n",
       "      <td>Swimming Pool, Sauna, CrossFit</td>\n",
       "    </tr>\n",
       "  </tbody>\n",
       "</table>\n",
       "</div>"
      ],
      "text/plain": [
       "   gym_id      location  gym_type  \\\n",
       "0   gym_1      New York   Premium   \n",
       "1   gym_2   Los Angeles    Budget   \n",
       "2   gym_3       Chicago    Budget   \n",
       "3   gym_4       Houston   Premium   \n",
       "4   gym_5       Phoenix  Standard   \n",
       "5   gym_6  Philadelphia    Budget   \n",
       "6   gym_7   San Antonio   Premium   \n",
       "7   gym_8     San Diego  Standard   \n",
       "8   gym_9        Dallas   Premium   \n",
       "9  gym_10      San Jose   Premium   \n",
       "\n",
       "                                       facilities  \n",
       "0  Climbing Wall, Swimming Pool, Basketball Court  \n",
       "1              Climbing Wall, Yoga Classes, Sauna  \n",
       "2             Sauna, Climbing Wall, Swimming Pool  \n",
       "3  Climbing Wall, Basketball Court, Swimming Pool  \n",
       "4       Basketball Court, CrossFit, Swimming Pool  \n",
       "5             Swimming Pool, Climbing Wall, Sauna  \n",
       "6          Sauna, Basketball Court, Swimming Pool  \n",
       "7               Basketball Court, Sauna, CrossFit  \n",
       "8                   Sauna, CrossFit, Yoga Classes  \n",
       "9                  Swimming Pool, Sauna, CrossFit  "
      ]
     },
     "execution_count": 8,
     "metadata": {},
     "output_type": "execute_result"
    }
   ],
   "source": [
    "gym_location"
   ]
  },
  {
   "cell_type": "markdown",
   "id": "e4524e21",
   "metadata": {
    "papermill": {
     "duration": 0.025128,
     "end_time": "2024-11-14T06:56:11.325049",
     "exception": false,
     "start_time": "2024-11-14T06:56:11.299921",
     "status": "completed"
    },
    "tags": []
   },
   "source": [
    "This data frame represents the feature of each gym. It could be useful to get to know how much its location and facilities attribute to the number of gym members."
   ]
  },
  {
   "cell_type": "code",
   "execution_count": 9,
   "id": "dc0852ab",
   "metadata": {
    "execution": {
     "iopub.execute_input": "2024-11-14T06:56:11.377390Z",
     "iopub.status.busy": "2024-11-14T06:56:11.376942Z",
     "iopub.status.idle": "2024-11-14T06:56:11.391295Z",
     "shell.execute_reply": "2024-11-14T06:56:11.389554Z"
    },
    "papermill": {
     "duration": 0.044832,
     "end_time": "2024-11-14T06:56:11.395208",
     "exception": false,
     "start_time": "2024-11-14T06:56:11.350376",
     "status": "completed"
    },
    "tags": []
   },
   "outputs": [
    {
     "name": "stdout",
     "output_type": "stream",
     "text": [
      "<class 'pandas.core.frame.DataFrame'>\n",
      "RangeIndex: 10 entries, 0 to 9\n",
      "Data columns (total 4 columns):\n",
      " #   Column      Non-Null Count  Dtype \n",
      "---  ------      --------------  ----- \n",
      " 0   gym_id      10 non-null     object\n",
      " 1   location    10 non-null     object\n",
      " 2   gym_type    10 non-null     object\n",
      " 3   facilities  10 non-null     object\n",
      "dtypes: object(4)\n",
      "memory usage: 448.0+ bytes\n"
     ]
    }
   ],
   "source": [
    "gym_location.info()"
   ]
  },
  {
   "cell_type": "code",
   "execution_count": 10,
   "id": "37b17101",
   "metadata": {
    "execution": {
     "iopub.execute_input": "2024-11-14T06:56:11.449268Z",
     "iopub.status.busy": "2024-11-14T06:56:11.448837Z",
     "iopub.status.idle": "2024-11-14T06:56:11.464509Z",
     "shell.execute_reply": "2024-11-14T06:56:11.462802Z"
    },
    "papermill": {
     "duration": 0.047332,
     "end_time": "2024-11-14T06:56:11.468129",
     "exception": false,
     "start_time": "2024-11-14T06:56:11.420797",
     "status": "completed"
    },
    "tags": []
   },
   "outputs": [
    {
     "name": "stdout",
     "output_type": "stream",
     "text": [
      "<class 'pandas.core.frame.DataFrame'>\n",
      "RangeIndex: 10 entries, 0 to 9\n",
      "Data columns (total 4 columns):\n",
      " #   Column      Non-Null Count  Dtype \n",
      "---  ------      --------------  ----- \n",
      " 0   gym_id      10 non-null     object\n",
      " 1   location    10 non-null     object\n",
      " 2   gym_type    10 non-null     object\n",
      " 3   facilities  10 non-null     object\n",
      "dtypes: object(4)\n",
      "memory usage: 448.0+ bytes\n"
     ]
    }
   ],
   "source": [
    "gym_location.info()"
   ]
  },
  {
   "cell_type": "markdown",
   "id": "832d78c8",
   "metadata": {
    "papermill": {
     "duration": 0.026329,
     "end_time": "2024-11-14T06:56:11.520278",
     "exception": false,
     "start_time": "2024-11-14T06:56:11.493949",
     "status": "completed"
    },
    "tags": []
   },
   "source": [
    "### Checkin History"
   ]
  },
  {
   "cell_type": "code",
   "execution_count": 11,
   "id": "96b29bcc",
   "metadata": {
    "execution": {
     "iopub.execute_input": "2024-11-14T06:56:11.573132Z",
     "iopub.status.busy": "2024-11-14T06:56:11.572655Z",
     "iopub.status.idle": "2024-11-14T06:56:11.865871Z",
     "shell.execute_reply": "2024-11-14T06:56:11.864748Z"
    },
    "papermill": {
     "duration": 0.322841,
     "end_time": "2024-11-14T06:56:11.868701",
     "exception": false,
     "start_time": "2024-11-14T06:56:11.545860",
     "status": "completed"
    },
    "tags": []
   },
   "outputs": [
    {
     "data": {
      "text/html": [
       "<div>\n",
       "<style scoped>\n",
       "    .dataframe tbody tr th:only-of-type {\n",
       "        vertical-align: middle;\n",
       "    }\n",
       "\n",
       "    .dataframe tbody tr th {\n",
       "        vertical-align: top;\n",
       "    }\n",
       "\n",
       "    .dataframe thead th {\n",
       "        text-align: right;\n",
       "    }\n",
       "</style>\n",
       "<table border=\"1\" class=\"dataframe\">\n",
       "  <thead>\n",
       "    <tr style=\"text-align: right;\">\n",
       "      <th></th>\n",
       "      <th>user_id</th>\n",
       "      <th>gym_id</th>\n",
       "      <th>checkin_time</th>\n",
       "      <th>checkout_time</th>\n",
       "      <th>workout_type</th>\n",
       "      <th>calories_burned</th>\n",
       "    </tr>\n",
       "  </thead>\n",
       "  <tbody>\n",
       "    <tr>\n",
       "      <th>0</th>\n",
       "      <td>user_1</td>\n",
       "      <td>gym_8</td>\n",
       "      <td>2023-03-19 08:22:00</td>\n",
       "      <td>2023-03-19 10:36:00</td>\n",
       "      <td>Swimming</td>\n",
       "      <td>468</td>\n",
       "    </tr>\n",
       "    <tr>\n",
       "      <th>1</th>\n",
       "      <td>user_10</td>\n",
       "      <td>gym_6</td>\n",
       "      <td>2023-03-03 11:02:00</td>\n",
       "      <td>2023-03-03 11:36:00</td>\n",
       "      <td>Swimming</td>\n",
       "      <td>1438</td>\n",
       "    </tr>\n",
       "    <tr>\n",
       "      <th>2</th>\n",
       "      <td>user_100</td>\n",
       "      <td>gym_8</td>\n",
       "      <td>2023-08-01 19:50:00</td>\n",
       "      <td>2023-08-01 22:16:00</td>\n",
       "      <td>Cardio</td>\n",
       "      <td>559</td>\n",
       "    </tr>\n",
       "    <tr>\n",
       "      <th>3</th>\n",
       "      <td>user_1000</td>\n",
       "      <td>gym_3</td>\n",
       "      <td>2023-08-07 09:49:00</td>\n",
       "      <td>2023-08-07 12:14:00</td>\n",
       "      <td>Pilates</td>\n",
       "      <td>633</td>\n",
       "    </tr>\n",
       "    <tr>\n",
       "      <th>4</th>\n",
       "      <td>user_1001</td>\n",
       "      <td>gym_9</td>\n",
       "      <td>2023-03-29 11:27:00</td>\n",
       "      <td>2023-03-29 13:49:00</td>\n",
       "      <td>Cardio</td>\n",
       "      <td>1108</td>\n",
       "    </tr>\n",
       "  </tbody>\n",
       "</table>\n",
       "</div>"
      ],
      "text/plain": [
       "     user_id gym_id         checkin_time        checkout_time workout_type  \\\n",
       "0     user_1  gym_8  2023-03-19 08:22:00  2023-03-19 10:36:00     Swimming   \n",
       "1    user_10  gym_6  2023-03-03 11:02:00  2023-03-03 11:36:00     Swimming   \n",
       "2   user_100  gym_8  2023-08-01 19:50:00  2023-08-01 22:16:00       Cardio   \n",
       "3  user_1000  gym_3  2023-08-07 09:49:00  2023-08-07 12:14:00      Pilates   \n",
       "4  user_1001  gym_9  2023-03-29 11:27:00  2023-03-29 13:49:00       Cardio   \n",
       "\n",
       "   calories_burned  \n",
       "0              468  \n",
       "1             1438  \n",
       "2              559  \n",
       "3              633  \n",
       "4             1108  "
      ]
     },
     "execution_count": 11,
     "metadata": {},
     "output_type": "execute_result"
    }
   ],
   "source": [
    "checkin_history.head()\n",
    "checkin_history.groupby('user_id').first().reset_index().head()"
   ]
  },
  {
   "cell_type": "code",
   "execution_count": 12,
   "id": "1e1fdc67",
   "metadata": {
    "execution": {
     "iopub.execute_input": "2024-11-14T06:56:11.923658Z",
     "iopub.status.busy": "2024-11-14T06:56:11.922539Z",
     "iopub.status.idle": "2024-11-14T06:56:12.845925Z",
     "shell.execute_reply": "2024-11-14T06:56:12.844675Z"
    },
    "papermill": {
     "duration": 0.954657,
     "end_time": "2024-11-14T06:56:12.848813",
     "exception": false,
     "start_time": "2024-11-14T06:56:11.894156",
     "status": "completed"
    },
    "tags": []
   },
   "outputs": [
    {
     "data": {
      "text/html": [
       "<div>\n",
       "<style scoped>\n",
       "    .dataframe tbody tr th:only-of-type {\n",
       "        vertical-align: middle;\n",
       "    }\n",
       "\n",
       "    .dataframe tbody tr th {\n",
       "        vertical-align: top;\n",
       "    }\n",
       "\n",
       "    .dataframe thead th {\n",
       "        text-align: right;\n",
       "    }\n",
       "</style>\n",
       "<table border=\"1\" class=\"dataframe\">\n",
       "  <thead>\n",
       "    <tr style=\"text-align: right;\">\n",
       "      <th></th>\n",
       "      <th>user_id</th>\n",
       "      <th>gym_id</th>\n",
       "      <th>checkin_time</th>\n",
       "      <th>checkout_time</th>\n",
       "      <th>workout_type</th>\n",
       "      <th>calories_burned</th>\n",
       "    </tr>\n",
       "  </thead>\n",
       "  <tbody>\n",
       "    <tr>\n",
       "      <th>4007</th>\n",
       "      <td>user_4603</td>\n",
       "      <td>gym_5</td>\n",
       "      <td>2023-01-01 06:00:00</td>\n",
       "      <td>2023-01-01 08:05:00</td>\n",
       "      <td>CrossFit</td>\n",
       "      <td>526</td>\n",
       "    </tr>\n",
       "    <tr>\n",
       "      <th>274780</th>\n",
       "      <td>user_3678</td>\n",
       "      <td>gym_9</td>\n",
       "      <td>2023-01-01 06:03:00</td>\n",
       "      <td>2023-01-01 07:48:00</td>\n",
       "      <td>Pilates</td>\n",
       "      <td>725</td>\n",
       "    </tr>\n",
       "    <tr>\n",
       "      <th>241044</th>\n",
       "      <td>user_254</td>\n",
       "      <td>gym_7</td>\n",
       "      <td>2023-01-01 06:03:00</td>\n",
       "      <td>2023-01-01 08:48:00</td>\n",
       "      <td>Yoga</td>\n",
       "      <td>616</td>\n",
       "    </tr>\n",
       "    <tr>\n",
       "      <th>132392</th>\n",
       "      <td>user_3780</td>\n",
       "      <td>gym_3</td>\n",
       "      <td>2023-01-01 06:04:00</td>\n",
       "      <td>2023-01-01 07:29:00</td>\n",
       "      <td>Weightlifting</td>\n",
       "      <td>1036</td>\n",
       "    </tr>\n",
       "    <tr>\n",
       "      <th>285103</th>\n",
       "      <td>user_4040</td>\n",
       "      <td>gym_1</td>\n",
       "      <td>2023-01-01 06:07:00</td>\n",
       "      <td>2023-01-01 07:27:00</td>\n",
       "      <td>Cardio</td>\n",
       "      <td>584</td>\n",
       "    </tr>\n",
       "    <tr>\n",
       "      <th>...</th>\n",
       "      <td>...</td>\n",
       "      <td>...</td>\n",
       "      <td>...</td>\n",
       "      <td>...</td>\n",
       "      <td>...</td>\n",
       "      <td>...</td>\n",
       "    </tr>\n",
       "    <tr>\n",
       "      <th>218510</th>\n",
       "      <td>user_3965</td>\n",
       "      <td>gym_9</td>\n",
       "      <td>2023-10-15 20:56:00</td>\n",
       "      <td>2023-10-15 23:13:00</td>\n",
       "      <td>Swimming</td>\n",
       "      <td>391</td>\n",
       "    </tr>\n",
       "    <tr>\n",
       "      <th>286607</th>\n",
       "      <td>user_2360</td>\n",
       "      <td>gym_8</td>\n",
       "      <td>2023-10-15 20:56:00</td>\n",
       "      <td>2023-10-15 22:42:00</td>\n",
       "      <td>Pilates</td>\n",
       "      <td>1326</td>\n",
       "    </tr>\n",
       "    <tr>\n",
       "      <th>49236</th>\n",
       "      <td>user_2423</td>\n",
       "      <td>gym_7</td>\n",
       "      <td>2023-10-15 20:58:00</td>\n",
       "      <td>2023-10-15 21:35:00</td>\n",
       "      <td>CrossFit</td>\n",
       "      <td>624</td>\n",
       "    </tr>\n",
       "    <tr>\n",
       "      <th>66504</th>\n",
       "      <td>user_4577</td>\n",
       "      <td>gym_7</td>\n",
       "      <td>2023-10-15 20:59:00</td>\n",
       "      <td>2023-10-15 22:38:00</td>\n",
       "      <td>CrossFit</td>\n",
       "      <td>945</td>\n",
       "    </tr>\n",
       "    <tr>\n",
       "      <th>154922</th>\n",
       "      <td>user_4382</td>\n",
       "      <td>gym_3</td>\n",
       "      <td>2023-10-15 20:59:00</td>\n",
       "      <td>2023-10-15 22:40:00</td>\n",
       "      <td>Weightlifting</td>\n",
       "      <td>929</td>\n",
       "    </tr>\n",
       "  </tbody>\n",
       "</table>\n",
       "<p>300000 rows × 6 columns</p>\n",
       "</div>"
      ],
      "text/plain": [
       "          user_id gym_id         checkin_time        checkout_time  \\\n",
       "4007    user_4603  gym_5  2023-01-01 06:00:00  2023-01-01 08:05:00   \n",
       "274780  user_3678  gym_9  2023-01-01 06:03:00  2023-01-01 07:48:00   \n",
       "241044   user_254  gym_7  2023-01-01 06:03:00  2023-01-01 08:48:00   \n",
       "132392  user_3780  gym_3  2023-01-01 06:04:00  2023-01-01 07:29:00   \n",
       "285103  user_4040  gym_1  2023-01-01 06:07:00  2023-01-01 07:27:00   \n",
       "...           ...    ...                  ...                  ...   \n",
       "218510  user_3965  gym_9  2023-10-15 20:56:00  2023-10-15 23:13:00   \n",
       "286607  user_2360  gym_8  2023-10-15 20:56:00  2023-10-15 22:42:00   \n",
       "49236   user_2423  gym_7  2023-10-15 20:58:00  2023-10-15 21:35:00   \n",
       "66504   user_4577  gym_7  2023-10-15 20:59:00  2023-10-15 22:38:00   \n",
       "154922  user_4382  gym_3  2023-10-15 20:59:00  2023-10-15 22:40:00   \n",
       "\n",
       "         workout_type  calories_burned  \n",
       "4007         CrossFit              526  \n",
       "274780        Pilates              725  \n",
       "241044           Yoga              616  \n",
       "132392  Weightlifting             1036  \n",
       "285103         Cardio              584  \n",
       "...               ...              ...  \n",
       "218510       Swimming              391  \n",
       "286607        Pilates             1326  \n",
       "49236        CrossFit              624  \n",
       "66504        CrossFit              945  \n",
       "154922  Weightlifting              929  \n",
       "\n",
       "[300000 rows x 6 columns]"
      ]
     },
     "execution_count": 12,
     "metadata": {},
     "output_type": "execute_result"
    }
   ],
   "source": [
    "checkin_history.sort_values(by=\"checkin_time\")"
   ]
  },
  {
   "cell_type": "markdown",
   "id": "ab4eb1b4",
   "metadata": {
    "papermill": {
     "duration": 0.027053,
     "end_time": "2024-11-14T06:56:12.904257",
     "exception": false,
     "start_time": "2024-11-14T06:56:12.877204",
     "status": "completed"
    },
    "tags": []
   },
   "source": [
    "This is a individual checkin and checkout time history data in terms of 2023-01-01 to 2023-10-15."
   ]
  },
  {
   "cell_type": "code",
   "execution_count": 13,
   "id": "06ac0314",
   "metadata": {
    "execution": {
     "iopub.execute_input": "2024-11-14T06:56:12.959303Z",
     "iopub.status.busy": "2024-11-14T06:56:12.958857Z",
     "iopub.status.idle": "2024-11-14T06:56:13.143251Z",
     "shell.execute_reply": "2024-11-14T06:56:13.141675Z"
    },
    "papermill": {
     "duration": 0.214465,
     "end_time": "2024-11-14T06:56:13.146112",
     "exception": false,
     "start_time": "2024-11-14T06:56:12.931647",
     "status": "completed"
    },
    "tags": []
   },
   "outputs": [
    {
     "name": "stdout",
     "output_type": "stream",
     "text": [
      "<class 'pandas.core.frame.DataFrame'>\n",
      "RangeIndex: 300000 entries, 0 to 299999\n",
      "Data columns (total 6 columns):\n",
      " #   Column           Non-Null Count   Dtype \n",
      "---  ------           --------------   ----- \n",
      " 0   user_id          300000 non-null  object\n",
      " 1   gym_id           300000 non-null  object\n",
      " 2   checkin_time     300000 non-null  object\n",
      " 3   checkout_time    300000 non-null  object\n",
      " 4   workout_type     300000 non-null  object\n",
      " 5   calories_burned  300000 non-null  int64 \n",
      "dtypes: int64(1), object(5)\n",
      "memory usage: 13.7+ MB\n"
     ]
    }
   ],
   "source": [
    "checkin_history.info()"
   ]
  },
  {
   "cell_type": "markdown",
   "id": "93880ec6",
   "metadata": {
    "papermill": {
     "duration": 0.027861,
     "end_time": "2024-11-14T06:56:13.200540",
     "exception": false,
     "start_time": "2024-11-14T06:56:13.172679",
     "status": "completed"
    },
    "tags": []
   },
   "source": [
    "### Subscripiton Plans"
   ]
  },
  {
   "cell_type": "code",
   "execution_count": 14,
   "id": "95ec1233",
   "metadata": {
    "execution": {
     "iopub.execute_input": "2024-11-14T06:56:13.256110Z",
     "iopub.status.busy": "2024-11-14T06:56:13.255517Z",
     "iopub.status.idle": "2024-11-14T06:56:13.265151Z",
     "shell.execute_reply": "2024-11-14T06:56:13.263855Z"
    },
    "papermill": {
     "duration": 0.04005,
     "end_time": "2024-11-14T06:56:13.267795",
     "exception": false,
     "start_time": "2024-11-14T06:56:13.227745",
     "status": "completed"
    },
    "tags": []
   },
   "outputs": [
    {
     "data": {
      "text/plain": [
       "array(['Access to basic gym facilities, Limited class access, 1 guest pass per month',\n",
       "       'Access to all facilities, Unlimited class access, 5 guest passes per month, Free personal trainer session',\n",
       "       'Access to basic facilities, Limited class access, 1 guest pass per month, Discounted for students'],\n",
       "      dtype=object)"
      ]
     },
     "execution_count": 14,
     "metadata": {},
     "output_type": "execute_result"
    }
   ],
   "source": [
    "subscription_plans.head()\n",
    "subscription_plans[\"features\"].unique()"
   ]
  },
  {
   "cell_type": "markdown",
   "id": "0f063923",
   "metadata": {
    "papermill": {
     "duration": 0.025555,
     "end_time": "2024-11-14T06:56:13.321827",
     "exception": false,
     "start_time": "2024-11-14T06:56:13.296272",
     "status": "completed"
    },
    "tags": []
   },
   "source": [
    "This gives us concreate information about each subscription plan.（それぞれのプランに関する情報を持ったテーブルです。）"
   ]
  },
  {
   "cell_type": "code",
   "execution_count": 15,
   "id": "e0be2480",
   "metadata": {
    "execution": {
     "iopub.execute_input": "2024-11-14T06:56:13.376596Z",
     "iopub.status.busy": "2024-11-14T06:56:13.376107Z",
     "iopub.status.idle": "2024-11-14T06:56:13.388217Z",
     "shell.execute_reply": "2024-11-14T06:56:13.387061Z"
    },
    "papermill": {
     "duration": 0.042832,
     "end_time": "2024-11-14T06:56:13.391351",
     "exception": false,
     "start_time": "2024-11-14T06:56:13.348519",
     "status": "completed"
    },
    "tags": []
   },
   "outputs": [
    {
     "name": "stdout",
     "output_type": "stream",
     "text": [
      "<class 'pandas.core.frame.DataFrame'>\n",
      "RangeIndex: 3 entries, 0 to 2\n",
      "Data columns (total 3 columns):\n",
      " #   Column             Non-Null Count  Dtype  \n",
      "---  ------             --------------  -----  \n",
      " 0   subscription_plan  3 non-null      object \n",
      " 1   price_per_month    3 non-null      float64\n",
      " 2   features           3 non-null      object \n",
      "dtypes: float64(1), object(2)\n",
      "memory usage: 200.0+ bytes\n"
     ]
    }
   ],
   "source": [
    "subscription_plans.info()"
   ]
  },
  {
   "cell_type": "markdown",
   "id": "34b01b0e",
   "metadata": {
    "papermill": {
     "duration": 0.027678,
     "end_time": "2024-11-14T06:56:13.446416",
     "exception": false,
     "start_time": "2024-11-14T06:56:13.418738",
     "status": "completed"
    },
    "tags": []
   },
   "source": [
    "## Merge the dataframes (データフレームのマージ)\n",
    "\n",
    "Each dataframe doesn't have any null value and it is good to use for input datasets. However there are four data frame in total so it is better to convert them into single dataframe to use as an input for machine learning models. \n",
    "(４つのテーブルはNUllデータを含んでおらず、機械学習モデルのインプットとして理想的です。しかし最終的なインプットとして利用するためにはこれらのテーブルを一つのテーブルにマージすること必要があります。)\n",
    "\n",
    "### 1. Identify key relationships between dataframe(データフレーム間のKeyとなる関係)\n",
    "   user_id: This is a primary key between user_data and checkin_history dataframe. It connect user demographics with their gym checkin history\n",
    "   (user_data と　checkin_history を繋ぐ主要キー。ユーザーデモグラフィックとそれぞれのチェクインの履歴を結んでいる。)\n",
    "   \n",
    "   gym_id: This is a primary key between gym_location and checkin_history dataframe. It connect gym attributes with checkin history.\n",
    "   (gym_location, checkin_historyを繋ぐキーでジムの情報とチェックイン履歴を結んでいる。)\n",
    "   \n",
    "   \n",
    "   subscription_plan: It can connect user_data and subscription_plans dataframe\n",
    "   (user_data , subscription_planを繋ぐキー)"
   ]
  },
  {
   "cell_type": "markdown",
   "id": "5d8d9531",
   "metadata": {
    "papermill": {
     "duration": 0.026964,
     "end_time": "2024-11-14T06:56:13.501502",
     "exception": false,
     "start_time": "2024-11-14T06:56:13.474538",
     "status": "completed"
    },
    "tags": []
   },
   "source": [
    "### 2. Merge the Data Frame(マージ)\n",
    "\n",
    "First, merge users_data and subscription_plans on `subscription_plan`\n",
    "(まず、user_data と　subscription_plans テーブルをsubscription_plan カラムでマージ)\n"
   ]
  },
  {
   "cell_type": "code",
   "execution_count": 16,
   "id": "7791ae6c",
   "metadata": {
    "execution": {
     "iopub.execute_input": "2024-11-14T06:56:13.558450Z",
     "iopub.status.busy": "2024-11-14T06:56:13.558037Z",
     "iopub.status.idle": "2024-11-14T06:56:13.579929Z",
     "shell.execute_reply": "2024-11-14T06:56:13.578261Z"
    },
    "papermill": {
     "duration": 0.053562,
     "end_time": "2024-11-14T06:56:13.583026",
     "exception": false,
     "start_time": "2024-11-14T06:56:13.529464",
     "status": "completed"
    },
    "tags": []
   },
   "outputs": [],
   "source": [
    "users_data = pd.merge(users_data, subscription_plans, on=\"subscription_plan\", how=\"left\")"
   ]
  },
  {
   "cell_type": "code",
   "execution_count": 17,
   "id": "f68d770e",
   "metadata": {
    "execution": {
     "iopub.execute_input": "2024-11-14T06:56:13.655364Z",
     "iopub.status.busy": "2024-11-14T06:56:13.654621Z",
     "iopub.status.idle": "2024-11-14T06:56:13.675744Z",
     "shell.execute_reply": "2024-11-14T06:56:13.674302Z"
    },
    "papermill": {
     "duration": 0.060275,
     "end_time": "2024-11-14T06:56:13.679372",
     "exception": false,
     "start_time": "2024-11-14T06:56:13.619097",
     "status": "completed"
    },
    "tags": []
   },
   "outputs": [
    {
     "data": {
      "text/html": [
       "<div>\n",
       "<style scoped>\n",
       "    .dataframe tbody tr th:only-of-type {\n",
       "        vertical-align: middle;\n",
       "    }\n",
       "\n",
       "    .dataframe tbody tr th {\n",
       "        vertical-align: top;\n",
       "    }\n",
       "\n",
       "    .dataframe thead th {\n",
       "        text-align: right;\n",
       "    }\n",
       "</style>\n",
       "<table border=\"1\" class=\"dataframe\">\n",
       "  <thead>\n",
       "    <tr style=\"text-align: right;\">\n",
       "      <th></th>\n",
       "      <th>user_id</th>\n",
       "      <th>first_name</th>\n",
       "      <th>last_name</th>\n",
       "      <th>age</th>\n",
       "      <th>gender</th>\n",
       "      <th>birthdate</th>\n",
       "      <th>sign_up_date</th>\n",
       "      <th>user_location</th>\n",
       "      <th>subscription_plan</th>\n",
       "      <th>price_per_month</th>\n",
       "      <th>features</th>\n",
       "    </tr>\n",
       "  </thead>\n",
       "  <tbody>\n",
       "    <tr>\n",
       "      <th>0</th>\n",
       "      <td>user_1</td>\n",
       "      <td>Chris</td>\n",
       "      <td>Wilson</td>\n",
       "      <td>56</td>\n",
       "      <td>Female</td>\n",
       "      <td>2000-02-29</td>\n",
       "      <td>2023-02-06</td>\n",
       "      <td>Denver</td>\n",
       "      <td>Basic</td>\n",
       "      <td>19.99</td>\n",
       "      <td>Access to basic gym facilities, Limited class ...</td>\n",
       "    </tr>\n",
       "    <tr>\n",
       "      <th>1</th>\n",
       "      <td>user_2</td>\n",
       "      <td>Michael</td>\n",
       "      <td>Miller</td>\n",
       "      <td>46</td>\n",
       "      <td>Non-binary</td>\n",
       "      <td>1978-12-22</td>\n",
       "      <td>2023-08-08</td>\n",
       "      <td>Orlando</td>\n",
       "      <td>Pro</td>\n",
       "      <td>49.99</td>\n",
       "      <td>Access to all facilities, Unlimited class acce...</td>\n",
       "    </tr>\n",
       "    <tr>\n",
       "      <th>2</th>\n",
       "      <td>user_3</td>\n",
       "      <td>Daniel</td>\n",
       "      <td>Smith</td>\n",
       "      <td>32</td>\n",
       "      <td>Female</td>\n",
       "      <td>1962-08-30</td>\n",
       "      <td>2021-01-11</td>\n",
       "      <td>Orlando</td>\n",
       "      <td>Basic</td>\n",
       "      <td>19.99</td>\n",
       "      <td>Access to basic gym facilities, Limited class ...</td>\n",
       "    </tr>\n",
       "    <tr>\n",
       "      <th>3</th>\n",
       "      <td>user_4</td>\n",
       "      <td>David</td>\n",
       "      <td>Smith</td>\n",
       "      <td>60</td>\n",
       "      <td>Male</td>\n",
       "      <td>2003-12-05</td>\n",
       "      <td>2023-08-07</td>\n",
       "      <td>Denver</td>\n",
       "      <td>Pro</td>\n",
       "      <td>49.99</td>\n",
       "      <td>Access to all facilities, Unlimited class acce...</td>\n",
       "    </tr>\n",
       "    <tr>\n",
       "      <th>4</th>\n",
       "      <td>user_5</td>\n",
       "      <td>Chris</td>\n",
       "      <td>Jones</td>\n",
       "      <td>25</td>\n",
       "      <td>Female</td>\n",
       "      <td>2004-08-25</td>\n",
       "      <td>2021-01-08</td>\n",
       "      <td>Denver</td>\n",
       "      <td>Basic</td>\n",
       "      <td>19.99</td>\n",
       "      <td>Access to basic gym facilities, Limited class ...</td>\n",
       "    </tr>\n",
       "  </tbody>\n",
       "</table>\n",
       "</div>"
      ],
      "text/plain": [
       "  user_id first_name last_name  age      gender   birthdate sign_up_date  \\\n",
       "0  user_1      Chris    Wilson   56      Female  2000-02-29   2023-02-06   \n",
       "1  user_2    Michael    Miller   46  Non-binary  1978-12-22   2023-08-08   \n",
       "2  user_3     Daniel     Smith   32      Female  1962-08-30   2021-01-11   \n",
       "3  user_4      David     Smith   60        Male  2003-12-05   2023-08-07   \n",
       "4  user_5      Chris     Jones   25      Female  2004-08-25   2021-01-08   \n",
       "\n",
       "  user_location subscription_plan  price_per_month  \\\n",
       "0        Denver             Basic            19.99   \n",
       "1       Orlando               Pro            49.99   \n",
       "2       Orlando             Basic            19.99   \n",
       "3        Denver               Pro            49.99   \n",
       "4        Denver             Basic            19.99   \n",
       "\n",
       "                                            features  \n",
       "0  Access to basic gym facilities, Limited class ...  \n",
       "1  Access to all facilities, Unlimited class acce...  \n",
       "2  Access to basic gym facilities, Limited class ...  \n",
       "3  Access to all facilities, Unlimited class acce...  \n",
       "4  Access to basic gym facilities, Limited class ...  "
      ]
     },
     "execution_count": 17,
     "metadata": {},
     "output_type": "execute_result"
    }
   ],
   "source": [
    "users_data.head()"
   ]
  },
  {
   "cell_type": "markdown",
   "id": "99b4cac0",
   "metadata": {
    "papermill": {
     "duration": 0.040123,
     "end_time": "2024-11-14T06:56:13.747359",
     "exception": false,
     "start_time": "2024-11-14T06:56:13.707236",
     "status": "completed"
    },
    "tags": []
   },
   "source": [
    "Second, merge gym_location and checkin_history on `gym_location` column\n",
    "（次に、　gym_location と　checkin_historyテーブルをgym_location カラムでマージ）"
   ]
  },
  {
   "cell_type": "code",
   "execution_count": 18,
   "id": "14e48ee7",
   "metadata": {
    "execution": {
     "iopub.execute_input": "2024-11-14T06:56:13.824089Z",
     "iopub.status.busy": "2024-11-14T06:56:13.823668Z",
     "iopub.status.idle": "2024-11-14T06:56:13.979450Z",
     "shell.execute_reply": "2024-11-14T06:56:13.977684Z"
    },
    "papermill": {
     "duration": 0.195306,
     "end_time": "2024-11-14T06:56:13.983289",
     "exception": false,
     "start_time": "2024-11-14T06:56:13.787983",
     "status": "completed"
    },
    "tags": []
   },
   "outputs": [],
   "source": [
    "checkin_history = pd.merge(checkin_history, gym_location, on=\"gym_id\", how=\"left\")"
   ]
  },
  {
   "cell_type": "code",
   "execution_count": 19,
   "id": "96bc6f6d",
   "metadata": {
    "execution": {
     "iopub.execute_input": "2024-11-14T06:56:14.047051Z",
     "iopub.status.busy": "2024-11-14T06:56:14.046545Z",
     "iopub.status.idle": "2024-11-14T06:56:14.064731Z",
     "shell.execute_reply": "2024-11-14T06:56:14.063000Z"
    },
    "papermill": {
     "duration": 0.051488,
     "end_time": "2024-11-14T06:56:14.068303",
     "exception": false,
     "start_time": "2024-11-14T06:56:14.016815",
     "status": "completed"
    },
    "tags": []
   },
   "outputs": [
    {
     "data": {
      "text/html": [
       "<div>\n",
       "<style scoped>\n",
       "    .dataframe tbody tr th:only-of-type {\n",
       "        vertical-align: middle;\n",
       "    }\n",
       "\n",
       "    .dataframe tbody tr th {\n",
       "        vertical-align: top;\n",
       "    }\n",
       "\n",
       "    .dataframe thead th {\n",
       "        text-align: right;\n",
       "    }\n",
       "</style>\n",
       "<table border=\"1\" class=\"dataframe\">\n",
       "  <thead>\n",
       "    <tr style=\"text-align: right;\">\n",
       "      <th></th>\n",
       "      <th>user_id</th>\n",
       "      <th>gym_id</th>\n",
       "      <th>checkin_time</th>\n",
       "      <th>checkout_time</th>\n",
       "      <th>workout_type</th>\n",
       "      <th>calories_burned</th>\n",
       "      <th>location</th>\n",
       "      <th>gym_type</th>\n",
       "      <th>facilities</th>\n",
       "    </tr>\n",
       "  </thead>\n",
       "  <tbody>\n",
       "    <tr>\n",
       "      <th>0</th>\n",
       "      <td>user_3291</td>\n",
       "      <td>gym_6</td>\n",
       "      <td>2023-09-10 15:55:00</td>\n",
       "      <td>2023-09-10 16:34:00</td>\n",
       "      <td>Weightlifting</td>\n",
       "      <td>462</td>\n",
       "      <td>Philadelphia</td>\n",
       "      <td>Budget</td>\n",
       "      <td>Swimming Pool, Climbing Wall, Sauna</td>\n",
       "    </tr>\n",
       "    <tr>\n",
       "      <th>1</th>\n",
       "      <td>user_1944</td>\n",
       "      <td>gym_2</td>\n",
       "      <td>2023-04-13 20:07:00</td>\n",
       "      <td>2023-04-13 22:43:00</td>\n",
       "      <td>Yoga</td>\n",
       "      <td>1278</td>\n",
       "      <td>Los Angeles</td>\n",
       "      <td>Budget</td>\n",
       "      <td>Climbing Wall, Yoga Classes, Sauna</td>\n",
       "    </tr>\n",
       "    <tr>\n",
       "      <th>2</th>\n",
       "      <td>user_958</td>\n",
       "      <td>gym_7</td>\n",
       "      <td>2023-06-10 12:24:00</td>\n",
       "      <td>2023-06-10 13:49:00</td>\n",
       "      <td>Cardio</td>\n",
       "      <td>858</td>\n",
       "      <td>San Antonio</td>\n",
       "      <td>Premium</td>\n",
       "      <td>Sauna, Basketball Court, Swimming Pool</td>\n",
       "    </tr>\n",
       "    <tr>\n",
       "      <th>3</th>\n",
       "      <td>user_811</td>\n",
       "      <td>gym_2</td>\n",
       "      <td>2023-05-23 17:11:00</td>\n",
       "      <td>2023-05-23 20:01:00</td>\n",
       "      <td>Yoga</td>\n",
       "      <td>1134</td>\n",
       "      <td>Los Angeles</td>\n",
       "      <td>Budget</td>\n",
       "      <td>Climbing Wall, Yoga Classes, Sauna</td>\n",
       "    </tr>\n",
       "    <tr>\n",
       "      <th>4</th>\n",
       "      <td>user_4923</td>\n",
       "      <td>gym_10</td>\n",
       "      <td>2023-02-21 06:20:00</td>\n",
       "      <td>2023-02-21 08:02:00</td>\n",
       "      <td>Weightlifting</td>\n",
       "      <td>1049</td>\n",
       "      <td>San Jose</td>\n",
       "      <td>Premium</td>\n",
       "      <td>Swimming Pool, Sauna, CrossFit</td>\n",
       "    </tr>\n",
       "  </tbody>\n",
       "</table>\n",
       "</div>"
      ],
      "text/plain": [
       "     user_id  gym_id         checkin_time        checkout_time   workout_type  \\\n",
       "0  user_3291   gym_6  2023-09-10 15:55:00  2023-09-10 16:34:00  Weightlifting   \n",
       "1  user_1944   gym_2  2023-04-13 20:07:00  2023-04-13 22:43:00           Yoga   \n",
       "2   user_958   gym_7  2023-06-10 12:24:00  2023-06-10 13:49:00         Cardio   \n",
       "3   user_811   gym_2  2023-05-23 17:11:00  2023-05-23 20:01:00           Yoga   \n",
       "4  user_4923  gym_10  2023-02-21 06:20:00  2023-02-21 08:02:00  Weightlifting   \n",
       "\n",
       "   calories_burned      location gym_type  \\\n",
       "0              462  Philadelphia   Budget   \n",
       "1             1278   Los Angeles   Budget   \n",
       "2              858   San Antonio  Premium   \n",
       "3             1134   Los Angeles   Budget   \n",
       "4             1049      San Jose  Premium   \n",
       "\n",
       "                               facilities  \n",
       "0     Swimming Pool, Climbing Wall, Sauna  \n",
       "1      Climbing Wall, Yoga Classes, Sauna  \n",
       "2  Sauna, Basketball Court, Swimming Pool  \n",
       "3      Climbing Wall, Yoga Classes, Sauna  \n",
       "4          Swimming Pool, Sauna, CrossFit  "
      ]
     },
     "execution_count": 19,
     "metadata": {},
     "output_type": "execute_result"
    }
   ],
   "source": [
    "checkin_history.head()"
   ]
  },
  {
   "cell_type": "markdown",
   "id": "f0ec29fa",
   "metadata": {
    "papermill": {
     "duration": 0.027356,
     "end_time": "2024-11-14T06:56:14.123105",
     "exception": false,
     "start_time": "2024-11-14T06:56:14.095749",
     "status": "completed"
    },
    "tags": []
   },
   "source": [
    "Finally, merge these two dataframes（最後に、　先で得た２つのデータフレームをマージ）"
   ]
  },
  {
   "cell_type": "code",
   "execution_count": 20,
   "id": "1aefdf1d",
   "metadata": {
    "execution": {
     "iopub.execute_input": "2024-11-14T06:56:14.181496Z",
     "iopub.status.busy": "2024-11-14T06:56:14.180996Z",
     "iopub.status.idle": "2024-11-14T06:56:15.518412Z",
     "shell.execute_reply": "2024-11-14T06:56:15.517081Z"
    },
    "papermill": {
     "duration": 1.370598,
     "end_time": "2024-11-14T06:56:15.521446",
     "exception": false,
     "start_time": "2024-11-14T06:56:14.150848",
     "status": "completed"
    },
    "tags": []
   },
   "outputs": [
    {
     "data": {
      "text/html": [
       "<div>\n",
       "<style scoped>\n",
       "    .dataframe tbody tr th:only-of-type {\n",
       "        vertical-align: middle;\n",
       "    }\n",
       "\n",
       "    .dataframe tbody tr th {\n",
       "        vertical-align: top;\n",
       "    }\n",
       "\n",
       "    .dataframe thead th {\n",
       "        text-align: right;\n",
       "    }\n",
       "</style>\n",
       "<table border=\"1\" class=\"dataframe\">\n",
       "  <thead>\n",
       "    <tr style=\"text-align: right;\">\n",
       "      <th></th>\n",
       "      <th>user_id</th>\n",
       "      <th>gym_id</th>\n",
       "      <th>checkin_time</th>\n",
       "      <th>checkout_time</th>\n",
       "      <th>workout_type</th>\n",
       "      <th>calories_burned</th>\n",
       "      <th>location</th>\n",
       "      <th>gym_type</th>\n",
       "      <th>facilities</th>\n",
       "      <th>first_name</th>\n",
       "      <th>last_name</th>\n",
       "      <th>age</th>\n",
       "      <th>gender</th>\n",
       "      <th>birthdate</th>\n",
       "      <th>sign_up_date</th>\n",
       "      <th>user_location</th>\n",
       "      <th>subscription_plan</th>\n",
       "      <th>price_per_month</th>\n",
       "      <th>features</th>\n",
       "    </tr>\n",
       "  </thead>\n",
       "  <tbody>\n",
       "    <tr>\n",
       "      <th>0</th>\n",
       "      <td>user_1</td>\n",
       "      <td>gym_8</td>\n",
       "      <td>2023-03-19 08:22:00</td>\n",
       "      <td>2023-03-19 10:36:00</td>\n",
       "      <td>Swimming</td>\n",
       "      <td>468</td>\n",
       "      <td>San Diego</td>\n",
       "      <td>Standard</td>\n",
       "      <td>Basketball Court, Sauna, CrossFit</td>\n",
       "      <td>Chris</td>\n",
       "      <td>Wilson</td>\n",
       "      <td>56</td>\n",
       "      <td>Female</td>\n",
       "      <td>2000-02-29</td>\n",
       "      <td>2023-02-06</td>\n",
       "      <td>Denver</td>\n",
       "      <td>Basic</td>\n",
       "      <td>19.99</td>\n",
       "      <td>Access to basic gym facilities, Limited class ...</td>\n",
       "    </tr>\n",
       "    <tr>\n",
       "      <th>1</th>\n",
       "      <td>user_10</td>\n",
       "      <td>gym_6</td>\n",
       "      <td>2023-03-03 11:02:00</td>\n",
       "      <td>2023-03-03 11:36:00</td>\n",
       "      <td>Swimming</td>\n",
       "      <td>1438</td>\n",
       "      <td>Philadelphia</td>\n",
       "      <td>Budget</td>\n",
       "      <td>Swimming Pool, Climbing Wall, Sauna</td>\n",
       "      <td>John</td>\n",
       "      <td>Jones</td>\n",
       "      <td>28</td>\n",
       "      <td>Non-binary</td>\n",
       "      <td>2005-10-30</td>\n",
       "      <td>2022-06-24</td>\n",
       "      <td>Detroit</td>\n",
       "      <td>Basic</td>\n",
       "      <td>19.99</td>\n",
       "      <td>Access to basic gym facilities, Limited class ...</td>\n",
       "    </tr>\n",
       "    <tr>\n",
       "      <th>2</th>\n",
       "      <td>user_100</td>\n",
       "      <td>gym_8</td>\n",
       "      <td>2023-08-01 19:50:00</td>\n",
       "      <td>2023-08-01 22:16:00</td>\n",
       "      <td>Cardio</td>\n",
       "      <td>559</td>\n",
       "      <td>San Diego</td>\n",
       "      <td>Standard</td>\n",
       "      <td>Basketball Court, Sauna, CrossFit</td>\n",
       "      <td>David</td>\n",
       "      <td>Jones</td>\n",
       "      <td>61</td>\n",
       "      <td>Male</td>\n",
       "      <td>1968-02-26</td>\n",
       "      <td>2022-06-25</td>\n",
       "      <td>Austin</td>\n",
       "      <td>Student</td>\n",
       "      <td>9.99</td>\n",
       "      <td>Access to basic facilities, Limited class acce...</td>\n",
       "    </tr>\n",
       "    <tr>\n",
       "      <th>3</th>\n",
       "      <td>user_1000</td>\n",
       "      <td>gym_3</td>\n",
       "      <td>2023-08-07 09:49:00</td>\n",
       "      <td>2023-08-07 12:14:00</td>\n",
       "      <td>Pilates</td>\n",
       "      <td>633</td>\n",
       "      <td>Chicago</td>\n",
       "      <td>Budget</td>\n",
       "      <td>Sauna, Climbing Wall, Swimming Pool</td>\n",
       "      <td>Robert</td>\n",
       "      <td>Miller</td>\n",
       "      <td>19</td>\n",
       "      <td>Female</td>\n",
       "      <td>1980-12-27</td>\n",
       "      <td>2023-05-18</td>\n",
       "      <td>Seattle</td>\n",
       "      <td>Pro</td>\n",
       "      <td>49.99</td>\n",
       "      <td>Access to all facilities, Unlimited class acce...</td>\n",
       "    </tr>\n",
       "    <tr>\n",
       "      <th>4</th>\n",
       "      <td>user_1001</td>\n",
       "      <td>gym_9</td>\n",
       "      <td>2023-03-29 11:27:00</td>\n",
       "      <td>2023-03-29 13:49:00</td>\n",
       "      <td>Cardio</td>\n",
       "      <td>1108</td>\n",
       "      <td>Dallas</td>\n",
       "      <td>Premium</td>\n",
       "      <td>Sauna, CrossFit, Yoga Classes</td>\n",
       "      <td>Emily</td>\n",
       "      <td>Jones</td>\n",
       "      <td>30</td>\n",
       "      <td>Female</td>\n",
       "      <td>1986-12-03</td>\n",
       "      <td>2021-04-13</td>\n",
       "      <td>San Francisco</td>\n",
       "      <td>Student</td>\n",
       "      <td>9.99</td>\n",
       "      <td>Access to basic facilities, Limited class acce...</td>\n",
       "    </tr>\n",
       "    <tr>\n",
       "      <th>...</th>\n",
       "      <td>...</td>\n",
       "      <td>...</td>\n",
       "      <td>...</td>\n",
       "      <td>...</td>\n",
       "      <td>...</td>\n",
       "      <td>...</td>\n",
       "      <td>...</td>\n",
       "      <td>...</td>\n",
       "      <td>...</td>\n",
       "      <td>...</td>\n",
       "      <td>...</td>\n",
       "      <td>...</td>\n",
       "      <td>...</td>\n",
       "      <td>...</td>\n",
       "      <td>...</td>\n",
       "      <td>...</td>\n",
       "      <td>...</td>\n",
       "      <td>...</td>\n",
       "      <td>...</td>\n",
       "    </tr>\n",
       "    <tr>\n",
       "      <th>4995</th>\n",
       "      <td>user_995</td>\n",
       "      <td>gym_2</td>\n",
       "      <td>2023-01-04 14:14:00</td>\n",
       "      <td>2023-01-04 16:23:00</td>\n",
       "      <td>Cardio</td>\n",
       "      <td>983</td>\n",
       "      <td>Los Angeles</td>\n",
       "      <td>Budget</td>\n",
       "      <td>Climbing Wall, Yoga Classes, Sauna</td>\n",
       "      <td>Linda</td>\n",
       "      <td>Jones</td>\n",
       "      <td>27</td>\n",
       "      <td>Male</td>\n",
       "      <td>2001-03-09</td>\n",
       "      <td>2022-09-30</td>\n",
       "      <td>Seattle</td>\n",
       "      <td>Pro</td>\n",
       "      <td>49.99</td>\n",
       "      <td>Access to all facilities, Unlimited class acce...</td>\n",
       "    </tr>\n",
       "    <tr>\n",
       "      <th>4996</th>\n",
       "      <td>user_996</td>\n",
       "      <td>gym_4</td>\n",
       "      <td>2023-07-22 19:47:00</td>\n",
       "      <td>2023-07-22 21:14:00</td>\n",
       "      <td>Swimming</td>\n",
       "      <td>1469</td>\n",
       "      <td>Houston</td>\n",
       "      <td>Premium</td>\n",
       "      <td>Climbing Wall, Basketball Court, Swimming Pool</td>\n",
       "      <td>Jessica</td>\n",
       "      <td>Miller</td>\n",
       "      <td>22</td>\n",
       "      <td>Male</td>\n",
       "      <td>1983-06-11</td>\n",
       "      <td>2023-04-08</td>\n",
       "      <td>Boston</td>\n",
       "      <td>Pro</td>\n",
       "      <td>49.99</td>\n",
       "      <td>Access to all facilities, Unlimited class acce...</td>\n",
       "    </tr>\n",
       "    <tr>\n",
       "      <th>4997</th>\n",
       "      <td>user_997</td>\n",
       "      <td>gym_2</td>\n",
       "      <td>2023-06-07 15:09:00</td>\n",
       "      <td>2023-06-07 16:38:00</td>\n",
       "      <td>Yoga</td>\n",
       "      <td>798</td>\n",
       "      <td>Los Angeles</td>\n",
       "      <td>Budget</td>\n",
       "      <td>Climbing Wall, Yoga Classes, Sauna</td>\n",
       "      <td>Jessica</td>\n",
       "      <td>Davis</td>\n",
       "      <td>40</td>\n",
       "      <td>Male</td>\n",
       "      <td>1969-01-16</td>\n",
       "      <td>2022-05-06</td>\n",
       "      <td>Atlanta</td>\n",
       "      <td>Basic</td>\n",
       "      <td>19.99</td>\n",
       "      <td>Access to basic gym facilities, Limited class ...</td>\n",
       "    </tr>\n",
       "    <tr>\n",
       "      <th>4998</th>\n",
       "      <td>user_998</td>\n",
       "      <td>gym_10</td>\n",
       "      <td>2023-09-05 10:01:00</td>\n",
       "      <td>2023-09-05 11:47:00</td>\n",
       "      <td>Weightlifting</td>\n",
       "      <td>502</td>\n",
       "      <td>San Jose</td>\n",
       "      <td>Premium</td>\n",
       "      <td>Swimming Pool, Sauna, CrossFit</td>\n",
       "      <td>David</td>\n",
       "      <td>Martinez</td>\n",
       "      <td>27</td>\n",
       "      <td>Male</td>\n",
       "      <td>1996-10-26</td>\n",
       "      <td>2023-06-27</td>\n",
       "      <td>Orlando</td>\n",
       "      <td>Pro</td>\n",
       "      <td>49.99</td>\n",
       "      <td>Access to all facilities, Unlimited class acce...</td>\n",
       "    </tr>\n",
       "    <tr>\n",
       "      <th>4999</th>\n",
       "      <td>user_999</td>\n",
       "      <td>gym_4</td>\n",
       "      <td>2023-02-11 18:41:00</td>\n",
       "      <td>2023-02-11 20:57:00</td>\n",
       "      <td>Weightlifting</td>\n",
       "      <td>1009</td>\n",
       "      <td>Houston</td>\n",
       "      <td>Premium</td>\n",
       "      <td>Climbing Wall, Basketball Court, Swimming Pool</td>\n",
       "      <td>John</td>\n",
       "      <td>Brown</td>\n",
       "      <td>61</td>\n",
       "      <td>Male</td>\n",
       "      <td>1975-12-04</td>\n",
       "      <td>2021-05-21</td>\n",
       "      <td>Austin</td>\n",
       "      <td>Student</td>\n",
       "      <td>9.99</td>\n",
       "      <td>Access to basic facilities, Limited class acce...</td>\n",
       "    </tr>\n",
       "  </tbody>\n",
       "</table>\n",
       "<p>5000 rows × 19 columns</p>\n",
       "</div>"
      ],
      "text/plain": [
       "        user_id  gym_id         checkin_time        checkout_time  \\\n",
       "0        user_1   gym_8  2023-03-19 08:22:00  2023-03-19 10:36:00   \n",
       "1       user_10   gym_6  2023-03-03 11:02:00  2023-03-03 11:36:00   \n",
       "2      user_100   gym_8  2023-08-01 19:50:00  2023-08-01 22:16:00   \n",
       "3     user_1000   gym_3  2023-08-07 09:49:00  2023-08-07 12:14:00   \n",
       "4     user_1001   gym_9  2023-03-29 11:27:00  2023-03-29 13:49:00   \n",
       "...         ...     ...                  ...                  ...   \n",
       "4995   user_995   gym_2  2023-01-04 14:14:00  2023-01-04 16:23:00   \n",
       "4996   user_996   gym_4  2023-07-22 19:47:00  2023-07-22 21:14:00   \n",
       "4997   user_997   gym_2  2023-06-07 15:09:00  2023-06-07 16:38:00   \n",
       "4998   user_998  gym_10  2023-09-05 10:01:00  2023-09-05 11:47:00   \n",
       "4999   user_999   gym_4  2023-02-11 18:41:00  2023-02-11 20:57:00   \n",
       "\n",
       "       workout_type  calories_burned      location  gym_type  \\\n",
       "0          Swimming              468     San Diego  Standard   \n",
       "1          Swimming             1438  Philadelphia    Budget   \n",
       "2            Cardio              559     San Diego  Standard   \n",
       "3           Pilates              633       Chicago    Budget   \n",
       "4            Cardio             1108        Dallas   Premium   \n",
       "...             ...              ...           ...       ...   \n",
       "4995         Cardio              983   Los Angeles    Budget   \n",
       "4996       Swimming             1469       Houston   Premium   \n",
       "4997           Yoga              798   Los Angeles    Budget   \n",
       "4998  Weightlifting              502      San Jose   Premium   \n",
       "4999  Weightlifting             1009       Houston   Premium   \n",
       "\n",
       "                                          facilities first_name last_name  \\\n",
       "0                  Basketball Court, Sauna, CrossFit      Chris    Wilson   \n",
       "1                Swimming Pool, Climbing Wall, Sauna       John     Jones   \n",
       "2                  Basketball Court, Sauna, CrossFit      David     Jones   \n",
       "3                Sauna, Climbing Wall, Swimming Pool     Robert    Miller   \n",
       "4                      Sauna, CrossFit, Yoga Classes      Emily     Jones   \n",
       "...                                              ...        ...       ...   \n",
       "4995              Climbing Wall, Yoga Classes, Sauna      Linda     Jones   \n",
       "4996  Climbing Wall, Basketball Court, Swimming Pool    Jessica    Miller   \n",
       "4997              Climbing Wall, Yoga Classes, Sauna    Jessica     Davis   \n",
       "4998                  Swimming Pool, Sauna, CrossFit      David  Martinez   \n",
       "4999  Climbing Wall, Basketball Court, Swimming Pool       John     Brown   \n",
       "\n",
       "      age      gender   birthdate sign_up_date  user_location  \\\n",
       "0      56      Female  2000-02-29   2023-02-06         Denver   \n",
       "1      28  Non-binary  2005-10-30   2022-06-24        Detroit   \n",
       "2      61        Male  1968-02-26   2022-06-25         Austin   \n",
       "3      19      Female  1980-12-27   2023-05-18        Seattle   \n",
       "4      30      Female  1986-12-03   2021-04-13  San Francisco   \n",
       "...   ...         ...         ...          ...            ...   \n",
       "4995   27        Male  2001-03-09   2022-09-30        Seattle   \n",
       "4996   22        Male  1983-06-11   2023-04-08         Boston   \n",
       "4997   40        Male  1969-01-16   2022-05-06        Atlanta   \n",
       "4998   27        Male  1996-10-26   2023-06-27        Orlando   \n",
       "4999   61        Male  1975-12-04   2021-05-21         Austin   \n",
       "\n",
       "     subscription_plan  price_per_month  \\\n",
       "0                Basic            19.99   \n",
       "1                Basic            19.99   \n",
       "2              Student             9.99   \n",
       "3                  Pro            49.99   \n",
       "4              Student             9.99   \n",
       "...                ...              ...   \n",
       "4995               Pro            49.99   \n",
       "4996               Pro            49.99   \n",
       "4997             Basic            19.99   \n",
       "4998               Pro            49.99   \n",
       "4999           Student             9.99   \n",
       "\n",
       "                                               features  \n",
       "0     Access to basic gym facilities, Limited class ...  \n",
       "1     Access to basic gym facilities, Limited class ...  \n",
       "2     Access to basic facilities, Limited class acce...  \n",
       "3     Access to all facilities, Unlimited class acce...  \n",
       "4     Access to basic facilities, Limited class acce...  \n",
       "...                                                 ...  \n",
       "4995  Access to all facilities, Unlimited class acce...  \n",
       "4996  Access to all facilities, Unlimited class acce...  \n",
       "4997  Access to basic gym facilities, Limited class ...  \n",
       "4998  Access to all facilities, Unlimited class acce...  \n",
       "4999  Access to basic facilities, Limited class acce...  \n",
       "\n",
       "[5000 rows x 19 columns]"
      ]
     },
     "execution_count": 20,
     "metadata": {},
     "output_type": "execute_result"
    }
   ],
   "source": [
    "full_data = pd.merge(checkin_history, users_data, on=\"user_id\", how=\"left\")\n",
    "# show only one row for each unique feature of \"user_id\" column\n",
    "# user_idカラムのユニークなデータを一つのみ取り出します。\n",
    "full_data.groupby(\"user_id\").first().sort_values(by=\"user_id\").reset_index()"
   ]
  },
  {
   "cell_type": "markdown",
   "id": "f1610384",
   "metadata": {
    "papermill": {
     "duration": 0.033387,
     "end_time": "2024-11-14T06:56:15.583342",
     "exception": false,
     "start_time": "2024-11-14T06:56:15.549955",
     "status": "completed"
    },
    "tags": []
   },
   "source": [
    "Some values of user_id column weren't correctly sorted so I am removing the stirng part from it and remain only numeric part."
   ]
  },
  {
   "cell_type": "code",
   "execution_count": 21,
   "id": "ac0d9f43",
   "metadata": {
    "execution": {
     "iopub.execute_input": "2024-11-14T06:56:15.648858Z",
     "iopub.status.busy": "2024-11-14T06:56:15.648247Z",
     "iopub.status.idle": "2024-11-14T06:56:16.902878Z",
     "shell.execute_reply": "2024-11-14T06:56:16.900701Z"
    },
    "papermill": {
     "duration": 1.291634,
     "end_time": "2024-11-14T06:56:16.906289",
     "exception": false,
     "start_time": "2024-11-14T06:56:15.614655",
     "status": "completed"
    },
    "tags": []
   },
   "outputs": [],
   "source": [
    "full_data[\"user_id\"] = full_data[\"user_id\"].str.extract('(\\d+)').astype(\"int\")"
   ]
  },
  {
   "cell_type": "code",
   "execution_count": 22,
   "id": "47ed399b",
   "metadata": {
    "execution": {
     "iopub.execute_input": "2024-11-14T06:56:16.968410Z",
     "iopub.status.busy": "2024-11-14T06:56:16.967472Z",
     "iopub.status.idle": "2024-11-14T06:56:17.818507Z",
     "shell.execute_reply": "2024-11-14T06:56:17.816968Z"
    },
    "papermill": {
     "duration": 0.88565,
     "end_time": "2024-11-14T06:56:17.821400",
     "exception": false,
     "start_time": "2024-11-14T06:56:16.935750",
     "status": "completed"
    },
    "tags": []
   },
   "outputs": [
    {
     "data": {
      "text/html": [
       "<div>\n",
       "<style scoped>\n",
       "    .dataframe tbody tr th:only-of-type {\n",
       "        vertical-align: middle;\n",
       "    }\n",
       "\n",
       "    .dataframe tbody tr th {\n",
       "        vertical-align: top;\n",
       "    }\n",
       "\n",
       "    .dataframe thead th {\n",
       "        text-align: right;\n",
       "    }\n",
       "</style>\n",
       "<table border=\"1\" class=\"dataframe\">\n",
       "  <thead>\n",
       "    <tr style=\"text-align: right;\">\n",
       "      <th></th>\n",
       "      <th>user_id</th>\n",
       "      <th>gym_id</th>\n",
       "      <th>checkin_time</th>\n",
       "      <th>checkout_time</th>\n",
       "      <th>workout_type</th>\n",
       "      <th>calories_burned</th>\n",
       "      <th>location</th>\n",
       "      <th>gym_type</th>\n",
       "      <th>facilities</th>\n",
       "      <th>first_name</th>\n",
       "      <th>last_name</th>\n",
       "      <th>age</th>\n",
       "      <th>gender</th>\n",
       "      <th>birthdate</th>\n",
       "      <th>sign_up_date</th>\n",
       "      <th>user_location</th>\n",
       "      <th>subscription_plan</th>\n",
       "      <th>price_per_month</th>\n",
       "      <th>features</th>\n",
       "    </tr>\n",
       "  </thead>\n",
       "  <tbody>\n",
       "    <tr>\n",
       "      <th>0</th>\n",
       "      <td>1</td>\n",
       "      <td>gym_8</td>\n",
       "      <td>2023-03-19 08:22:00</td>\n",
       "      <td>2023-03-19 10:36:00</td>\n",
       "      <td>Swimming</td>\n",
       "      <td>468</td>\n",
       "      <td>San Diego</td>\n",
       "      <td>Standard</td>\n",
       "      <td>Basketball Court, Sauna, CrossFit</td>\n",
       "      <td>Chris</td>\n",
       "      <td>Wilson</td>\n",
       "      <td>56</td>\n",
       "      <td>Female</td>\n",
       "      <td>2000-02-29</td>\n",
       "      <td>2023-02-06</td>\n",
       "      <td>Denver</td>\n",
       "      <td>Basic</td>\n",
       "      <td>19.99</td>\n",
       "      <td>Access to basic gym facilities, Limited class ...</td>\n",
       "    </tr>\n",
       "    <tr>\n",
       "      <th>1</th>\n",
       "      <td>2</td>\n",
       "      <td>gym_2</td>\n",
       "      <td>2023-01-17 20:55:00</td>\n",
       "      <td>2023-01-17 23:51:00</td>\n",
       "      <td>Swimming</td>\n",
       "      <td>940</td>\n",
       "      <td>Los Angeles</td>\n",
       "      <td>Budget</td>\n",
       "      <td>Climbing Wall, Yoga Classes, Sauna</td>\n",
       "      <td>Michael</td>\n",
       "      <td>Miller</td>\n",
       "      <td>46</td>\n",
       "      <td>Non-binary</td>\n",
       "      <td>1978-12-22</td>\n",
       "      <td>2023-08-08</td>\n",
       "      <td>Orlando</td>\n",
       "      <td>Pro</td>\n",
       "      <td>49.99</td>\n",
       "      <td>Access to all facilities, Unlimited class acce...</td>\n",
       "    </tr>\n",
       "    <tr>\n",
       "      <th>2</th>\n",
       "      <td>3</td>\n",
       "      <td>gym_10</td>\n",
       "      <td>2023-01-25 17:16:00</td>\n",
       "      <td>2023-01-25 18:32:00</td>\n",
       "      <td>CrossFit</td>\n",
       "      <td>520</td>\n",
       "      <td>San Jose</td>\n",
       "      <td>Premium</td>\n",
       "      <td>Swimming Pool, Sauna, CrossFit</td>\n",
       "      <td>Daniel</td>\n",
       "      <td>Smith</td>\n",
       "      <td>32</td>\n",
       "      <td>Female</td>\n",
       "      <td>1962-08-30</td>\n",
       "      <td>2021-01-11</td>\n",
       "      <td>Orlando</td>\n",
       "      <td>Basic</td>\n",
       "      <td>19.99</td>\n",
       "      <td>Access to basic gym facilities, Limited class ...</td>\n",
       "    </tr>\n",
       "    <tr>\n",
       "      <th>3</th>\n",
       "      <td>4</td>\n",
       "      <td>gym_8</td>\n",
       "      <td>2023-04-16 08:35:00</td>\n",
       "      <td>2023-04-16 09:59:00</td>\n",
       "      <td>Swimming</td>\n",
       "      <td>826</td>\n",
       "      <td>San Diego</td>\n",
       "      <td>Standard</td>\n",
       "      <td>Basketball Court, Sauna, CrossFit</td>\n",
       "      <td>David</td>\n",
       "      <td>Smith</td>\n",
       "      <td>60</td>\n",
       "      <td>Male</td>\n",
       "      <td>2003-12-05</td>\n",
       "      <td>2023-08-07</td>\n",
       "      <td>Denver</td>\n",
       "      <td>Pro</td>\n",
       "      <td>49.99</td>\n",
       "      <td>Access to all facilities, Unlimited class acce...</td>\n",
       "    </tr>\n",
       "    <tr>\n",
       "      <th>4</th>\n",
       "      <td>5</td>\n",
       "      <td>gym_3</td>\n",
       "      <td>2023-01-13 16:45:00</td>\n",
       "      <td>2023-01-13 18:21:00</td>\n",
       "      <td>Yoga</td>\n",
       "      <td>577</td>\n",
       "      <td>Chicago</td>\n",
       "      <td>Budget</td>\n",
       "      <td>Sauna, Climbing Wall, Swimming Pool</td>\n",
       "      <td>Chris</td>\n",
       "      <td>Jones</td>\n",
       "      <td>25</td>\n",
       "      <td>Female</td>\n",
       "      <td>2004-08-25</td>\n",
       "      <td>2021-01-08</td>\n",
       "      <td>Denver</td>\n",
       "      <td>Basic</td>\n",
       "      <td>19.99</td>\n",
       "      <td>Access to basic gym facilities, Limited class ...</td>\n",
       "    </tr>\n",
       "    <tr>\n",
       "      <th>...</th>\n",
       "      <td>...</td>\n",
       "      <td>...</td>\n",
       "      <td>...</td>\n",
       "      <td>...</td>\n",
       "      <td>...</td>\n",
       "      <td>...</td>\n",
       "      <td>...</td>\n",
       "      <td>...</td>\n",
       "      <td>...</td>\n",
       "      <td>...</td>\n",
       "      <td>...</td>\n",
       "      <td>...</td>\n",
       "      <td>...</td>\n",
       "      <td>...</td>\n",
       "      <td>...</td>\n",
       "      <td>...</td>\n",
       "      <td>...</td>\n",
       "      <td>...</td>\n",
       "      <td>...</td>\n",
       "    </tr>\n",
       "    <tr>\n",
       "      <th>4995</th>\n",
       "      <td>4996</td>\n",
       "      <td>gym_9</td>\n",
       "      <td>2023-03-21 07:59:00</td>\n",
       "      <td>2023-03-21 09:57:00</td>\n",
       "      <td>Yoga</td>\n",
       "      <td>996</td>\n",
       "      <td>Dallas</td>\n",
       "      <td>Premium</td>\n",
       "      <td>Sauna, CrossFit, Yoga Classes</td>\n",
       "      <td>Sarah</td>\n",
       "      <td>Williams</td>\n",
       "      <td>33</td>\n",
       "      <td>Male</td>\n",
       "      <td>1958-01-13</td>\n",
       "      <td>2021-08-08</td>\n",
       "      <td>Las Vegas</td>\n",
       "      <td>Basic</td>\n",
       "      <td>19.99</td>\n",
       "      <td>Access to basic gym facilities, Limited class ...</td>\n",
       "    </tr>\n",
       "    <tr>\n",
       "      <th>4996</th>\n",
       "      <td>4997</td>\n",
       "      <td>gym_4</td>\n",
       "      <td>2023-09-29 20:31:00</td>\n",
       "      <td>2023-09-29 21:49:00</td>\n",
       "      <td>Yoga</td>\n",
       "      <td>312</td>\n",
       "      <td>Houston</td>\n",
       "      <td>Premium</td>\n",
       "      <td>Climbing Wall, Basketball Court, Swimming Pool</td>\n",
       "      <td>Linda</td>\n",
       "      <td>Brown</td>\n",
       "      <td>22</td>\n",
       "      <td>Male</td>\n",
       "      <td>1974-02-20</td>\n",
       "      <td>2023-01-22</td>\n",
       "      <td>Austin</td>\n",
       "      <td>Student</td>\n",
       "      <td>9.99</td>\n",
       "      <td>Access to basic facilities, Limited class acce...</td>\n",
       "    </tr>\n",
       "    <tr>\n",
       "      <th>4997</th>\n",
       "      <td>4998</td>\n",
       "      <td>gym_1</td>\n",
       "      <td>2023-06-20 13:51:00</td>\n",
       "      <td>2023-06-20 15:59:00</td>\n",
       "      <td>Yoga</td>\n",
       "      <td>393</td>\n",
       "      <td>New York</td>\n",
       "      <td>Premium</td>\n",
       "      <td>Climbing Wall, Swimming Pool, Basketball Court</td>\n",
       "      <td>Emily</td>\n",
       "      <td>Miller</td>\n",
       "      <td>38</td>\n",
       "      <td>Non-binary</td>\n",
       "      <td>1978-03-29</td>\n",
       "      <td>2021-04-16</td>\n",
       "      <td>Atlanta</td>\n",
       "      <td>Pro</td>\n",
       "      <td>49.99</td>\n",
       "      <td>Access to all facilities, Unlimited class acce...</td>\n",
       "    </tr>\n",
       "    <tr>\n",
       "      <th>4998</th>\n",
       "      <td>4999</td>\n",
       "      <td>gym_6</td>\n",
       "      <td>2023-08-31 08:21:00</td>\n",
       "      <td>2023-08-31 09:23:00</td>\n",
       "      <td>Cardio</td>\n",
       "      <td>1939</td>\n",
       "      <td>Philadelphia</td>\n",
       "      <td>Budget</td>\n",
       "      <td>Swimming Pool, Climbing Wall, Sauna</td>\n",
       "      <td>Robert</td>\n",
       "      <td>Garcia</td>\n",
       "      <td>27</td>\n",
       "      <td>Male</td>\n",
       "      <td>2002-02-01</td>\n",
       "      <td>2022-07-02</td>\n",
       "      <td>Denver</td>\n",
       "      <td>Pro</td>\n",
       "      <td>49.99</td>\n",
       "      <td>Access to all facilities, Unlimited class acce...</td>\n",
       "    </tr>\n",
       "    <tr>\n",
       "      <th>4999</th>\n",
       "      <td>5000</td>\n",
       "      <td>gym_5</td>\n",
       "      <td>2023-07-10 20:36:00</td>\n",
       "      <td>2023-07-10 23:33:00</td>\n",
       "      <td>CrossFit</td>\n",
       "      <td>1944</td>\n",
       "      <td>Phoenix</td>\n",
       "      <td>Standard</td>\n",
       "      <td>Basketball Court, CrossFit, Swimming Pool</td>\n",
       "      <td>Chris</td>\n",
       "      <td>Smith</td>\n",
       "      <td>36</td>\n",
       "      <td>Male</td>\n",
       "      <td>1959-11-21</td>\n",
       "      <td>2022-02-20</td>\n",
       "      <td>Seattle</td>\n",
       "      <td>Student</td>\n",
       "      <td>9.99</td>\n",
       "      <td>Access to basic facilities, Limited class acce...</td>\n",
       "    </tr>\n",
       "  </tbody>\n",
       "</table>\n",
       "<p>5000 rows × 19 columns</p>\n",
       "</div>"
      ],
      "text/plain": [
       "      user_id  gym_id         checkin_time        checkout_time workout_type  \\\n",
       "0           1   gym_8  2023-03-19 08:22:00  2023-03-19 10:36:00     Swimming   \n",
       "1           2   gym_2  2023-01-17 20:55:00  2023-01-17 23:51:00     Swimming   \n",
       "2           3  gym_10  2023-01-25 17:16:00  2023-01-25 18:32:00     CrossFit   \n",
       "3           4   gym_8  2023-04-16 08:35:00  2023-04-16 09:59:00     Swimming   \n",
       "4           5   gym_3  2023-01-13 16:45:00  2023-01-13 18:21:00         Yoga   \n",
       "...       ...     ...                  ...                  ...          ...   \n",
       "4995     4996   gym_9  2023-03-21 07:59:00  2023-03-21 09:57:00         Yoga   \n",
       "4996     4997   gym_4  2023-09-29 20:31:00  2023-09-29 21:49:00         Yoga   \n",
       "4997     4998   gym_1  2023-06-20 13:51:00  2023-06-20 15:59:00         Yoga   \n",
       "4998     4999   gym_6  2023-08-31 08:21:00  2023-08-31 09:23:00       Cardio   \n",
       "4999     5000   gym_5  2023-07-10 20:36:00  2023-07-10 23:33:00     CrossFit   \n",
       "\n",
       "      calories_burned      location  gym_type  \\\n",
       "0                 468     San Diego  Standard   \n",
       "1                 940   Los Angeles    Budget   \n",
       "2                 520      San Jose   Premium   \n",
       "3                 826     San Diego  Standard   \n",
       "4                 577       Chicago    Budget   \n",
       "...               ...           ...       ...   \n",
       "4995              996        Dallas   Premium   \n",
       "4996              312       Houston   Premium   \n",
       "4997              393      New York   Premium   \n",
       "4998             1939  Philadelphia    Budget   \n",
       "4999             1944       Phoenix  Standard   \n",
       "\n",
       "                                          facilities first_name last_name  \\\n",
       "0                  Basketball Court, Sauna, CrossFit      Chris    Wilson   \n",
       "1                 Climbing Wall, Yoga Classes, Sauna    Michael    Miller   \n",
       "2                     Swimming Pool, Sauna, CrossFit     Daniel     Smith   \n",
       "3                  Basketball Court, Sauna, CrossFit      David     Smith   \n",
       "4                Sauna, Climbing Wall, Swimming Pool      Chris     Jones   \n",
       "...                                              ...        ...       ...   \n",
       "4995                   Sauna, CrossFit, Yoga Classes      Sarah  Williams   \n",
       "4996  Climbing Wall, Basketball Court, Swimming Pool      Linda     Brown   \n",
       "4997  Climbing Wall, Swimming Pool, Basketball Court      Emily    Miller   \n",
       "4998             Swimming Pool, Climbing Wall, Sauna     Robert    Garcia   \n",
       "4999       Basketball Court, CrossFit, Swimming Pool      Chris     Smith   \n",
       "\n",
       "      age      gender   birthdate sign_up_date user_location  \\\n",
       "0      56      Female  2000-02-29   2023-02-06        Denver   \n",
       "1      46  Non-binary  1978-12-22   2023-08-08       Orlando   \n",
       "2      32      Female  1962-08-30   2021-01-11       Orlando   \n",
       "3      60        Male  2003-12-05   2023-08-07        Denver   \n",
       "4      25      Female  2004-08-25   2021-01-08        Denver   \n",
       "...   ...         ...         ...          ...           ...   \n",
       "4995   33        Male  1958-01-13   2021-08-08     Las Vegas   \n",
       "4996   22        Male  1974-02-20   2023-01-22        Austin   \n",
       "4997   38  Non-binary  1978-03-29   2021-04-16       Atlanta   \n",
       "4998   27        Male  2002-02-01   2022-07-02        Denver   \n",
       "4999   36        Male  1959-11-21   2022-02-20       Seattle   \n",
       "\n",
       "     subscription_plan  price_per_month  \\\n",
       "0                Basic            19.99   \n",
       "1                  Pro            49.99   \n",
       "2                Basic            19.99   \n",
       "3                  Pro            49.99   \n",
       "4                Basic            19.99   \n",
       "...                ...              ...   \n",
       "4995             Basic            19.99   \n",
       "4996           Student             9.99   \n",
       "4997               Pro            49.99   \n",
       "4998               Pro            49.99   \n",
       "4999           Student             9.99   \n",
       "\n",
       "                                               features  \n",
       "0     Access to basic gym facilities, Limited class ...  \n",
       "1     Access to all facilities, Unlimited class acce...  \n",
       "2     Access to basic gym facilities, Limited class ...  \n",
       "3     Access to all facilities, Unlimited class acce...  \n",
       "4     Access to basic gym facilities, Limited class ...  \n",
       "...                                                 ...  \n",
       "4995  Access to basic gym facilities, Limited class ...  \n",
       "4996  Access to basic facilities, Limited class acce...  \n",
       "4997  Access to all facilities, Unlimited class acce...  \n",
       "4998  Access to all facilities, Unlimited class acce...  \n",
       "4999  Access to basic facilities, Limited class acce...  \n",
       "\n",
       "[5000 rows x 19 columns]"
      ]
     },
     "execution_count": 22,
     "metadata": {},
     "output_type": "execute_result"
    }
   ],
   "source": [
    "full_data.groupby(\"user_id\").first().sort_values(by=\"user_id\").reset_index()"
   ]
  },
  {
   "cell_type": "code",
   "execution_count": 23,
   "id": "d705dfd0",
   "metadata": {
    "execution": {
     "iopub.execute_input": "2024-11-14T06:56:17.881809Z",
     "iopub.status.busy": "2024-11-14T06:56:17.881314Z",
     "iopub.status.idle": "2024-11-14T06:56:18.393005Z",
     "shell.execute_reply": "2024-11-14T06:56:18.390952Z"
    },
    "papermill": {
     "duration": 0.547141,
     "end_time": "2024-11-14T06:56:18.397080",
     "exception": false,
     "start_time": "2024-11-14T06:56:17.849939",
     "status": "completed"
    },
    "tags": []
   },
   "outputs": [
    {
     "name": "stdout",
     "output_type": "stream",
     "text": [
      "<class 'pandas.core.frame.DataFrame'>\n",
      "RangeIndex: 300000 entries, 0 to 299999\n",
      "Data columns (total 19 columns):\n",
      " #   Column             Non-Null Count   Dtype  \n",
      "---  ------             --------------   -----  \n",
      " 0   user_id            300000 non-null  int64  \n",
      " 1   gym_id             300000 non-null  object \n",
      " 2   checkin_time       300000 non-null  object \n",
      " 3   checkout_time      300000 non-null  object \n",
      " 4   workout_type       300000 non-null  object \n",
      " 5   calories_burned    300000 non-null  int64  \n",
      " 6   location           300000 non-null  object \n",
      " 7   gym_type           300000 non-null  object \n",
      " 8   facilities         300000 non-null  object \n",
      " 9   first_name         300000 non-null  object \n",
      " 10  last_name          300000 non-null  object \n",
      " 11  age                300000 non-null  int64  \n",
      " 12  gender             300000 non-null  object \n",
      " 13  birthdate          300000 non-null  object \n",
      " 14  sign_up_date       300000 non-null  object \n",
      " 15  user_location      300000 non-null  object \n",
      " 16  subscription_plan  300000 non-null  object \n",
      " 17  price_per_month    300000 non-null  float64\n",
      " 18  features           300000 non-null  object \n",
      "dtypes: float64(1), int64(3), object(15)\n",
      "memory usage: 43.5+ MB\n"
     ]
    }
   ],
   "source": [
    "full_data.info()"
   ]
  },
  {
   "cell_type": "markdown",
   "id": "6b6197bc",
   "metadata": {
    "papermill": {
     "duration": 0.029912,
     "end_time": "2024-11-14T06:56:18.458177",
     "exception": false,
     "start_time": "2024-11-14T06:56:18.428265",
     "status": "completed"
    },
    "tags": []
   },
   "source": [
    "To get some insights, go a little deeper for each columns.（こちらの結合したデータフレームの中身を少し詳しく見ていきデータの特徴を見ていきます。）"
   ]
  },
  {
   "cell_type": "markdown",
   "id": "f0e5882a",
   "metadata": {
    "papermill": {
     "duration": 0.02998,
     "end_time": "2024-11-14T06:56:18.517154",
     "exception": false,
     "start_time": "2024-11-14T06:56:18.487174",
     "status": "completed"
    },
    "tags": []
   },
   "source": [
    "# 4. Explore the Data（データの探索）"
   ]
  },
  {
   "cell_type": "markdown",
   "id": "ff047f28",
   "metadata": {
    "papermill": {
     "duration": 0.029958,
     "end_time": "2024-11-14T06:56:18.576493",
     "exception": false,
     "start_time": "2024-11-14T06:56:18.546535",
     "status": "completed"
    },
    "tags": []
   },
   "source": [
    "## <div style=\"text-align: center; padding: 15px; marging:0; coloro: white; font:Times New Romen; background-color:#33CCCC; \"><b>Univariate Analysys</b></div>"
   ]
  },
  {
   "cell_type": "markdown",
   "id": "a657c4da",
   "metadata": {
    "papermill": {
     "duration": 0.030739,
     "end_time": "2024-11-14T06:56:18.637900",
     "exception": false,
     "start_time": "2024-11-14T06:56:18.607161",
     "status": "completed"
    },
    "tags": []
   },
   "source": [
    "First of all, I will drop some columns that don't really give informative information. As of now, `first_name`, `last_name`, and `birthdate` appears not crucial for this task.（まず、　今回のプロジェクトのゴールに有益ではないカラムをドロップします。　first_name, last_name, birthdata こちら３つをドロップします。）"
   ]
  },
  {
   "cell_type": "code",
   "execution_count": 24,
   "id": "e3bffd2b",
   "metadata": {
    "execution": {
     "iopub.execute_input": "2024-11-14T06:56:18.703419Z",
     "iopub.status.busy": "2024-11-14T06:56:18.702967Z",
     "iopub.status.idle": "2024-11-14T06:56:19.170843Z",
     "shell.execute_reply": "2024-11-14T06:56:19.169313Z"
    },
    "papermill": {
     "duration": 0.502566,
     "end_time": "2024-11-14T06:56:19.174273",
     "exception": false,
     "start_time": "2024-11-14T06:56:18.671707",
     "status": "completed"
    },
    "tags": []
   },
   "outputs": [
    {
     "name": "stdout",
     "output_type": "stream",
     "text": [
      "<class 'pandas.core.frame.DataFrame'>\n",
      "RangeIndex: 300000 entries, 0 to 299999\n",
      "Data columns (total 16 columns):\n",
      " #   Column             Non-Null Count   Dtype  \n",
      "---  ------             --------------   -----  \n",
      " 0   user_id            300000 non-null  int64  \n",
      " 1   gym_id             300000 non-null  object \n",
      " 2   checkin_time       300000 non-null  object \n",
      " 3   checkout_time      300000 non-null  object \n",
      " 4   workout_type       300000 non-null  object \n",
      " 5   calories_burned    300000 non-null  int64  \n",
      " 6   location           300000 non-null  object \n",
      " 7   gym_type           300000 non-null  object \n",
      " 8   facilities         300000 non-null  object \n",
      " 9   age                300000 non-null  int64  \n",
      " 10  gender             300000 non-null  object \n",
      " 11  sign_up_date       300000 non-null  object \n",
      " 12  user_location      300000 non-null  object \n",
      " 13  subscription_plan  300000 non-null  object \n",
      " 14  price_per_month    300000 non-null  float64\n",
      " 15  features           300000 non-null  object \n",
      "dtypes: float64(1), int64(3), object(12)\n",
      "memory usage: 36.6+ MB\n"
     ]
    }
   ],
   "source": [
    "full_data = full_data.drop([\"first_name\", \"last_name\", \"birthdate\"], axis=1)\n",
    "full_data.info()"
   ]
  },
  {
   "cell_type": "markdown",
   "id": "bd471465",
   "metadata": {
    "papermill": {
     "duration": 0.033339,
     "end_time": "2024-11-14T06:56:19.237782",
     "exception": false,
     "start_time": "2024-11-14T06:56:19.204443",
     "status": "completed"
    },
    "tags": []
   },
   "source": [
    "### <div style=\"text-align:left\"; background_color:><b>• Check-in and Check-out（チェックインとチェックアウト）</b></div>"
   ]
  },
  {
   "cell_type": "code",
   "execution_count": 25,
   "id": "115b62f9",
   "metadata": {
    "execution": {
     "iopub.execute_input": "2024-11-14T06:56:19.303082Z",
     "iopub.status.busy": "2024-11-14T06:56:19.302629Z",
     "iopub.status.idle": "2024-11-14T06:56:19.427588Z",
     "shell.execute_reply": "2024-11-14T06:56:19.425738Z"
    },
    "papermill": {
     "duration": 0.160165,
     "end_time": "2024-11-14T06:56:19.430466",
     "exception": false,
     "start_time": "2024-11-14T06:56:19.270301",
     "status": "completed"
    },
    "tags": []
   },
   "outputs": [
    {
     "name": "stdout",
     "output_type": "stream",
     "text": [
      "2023-10-15 20:59:00\n",
      "2023-01-01 06:00:00\n"
     ]
    }
   ],
   "source": [
    "print(full_data[\"checkin_time\"].max())\n",
    "print(full_data[\"checkin_time\"].min())"
   ]
  },
  {
   "cell_type": "code",
   "execution_count": 26,
   "id": "660295ef",
   "metadata": {
    "execution": {
     "iopub.execute_input": "2024-11-14T06:56:19.500319Z",
     "iopub.status.busy": "2024-11-14T06:56:19.499848Z",
     "iopub.status.idle": "2024-11-14T06:56:23.897110Z",
     "shell.execute_reply": "2024-11-14T06:56:23.895355Z"
    },
    "papermill": {
     "duration": 4.436903,
     "end_time": "2024-11-14T06:56:23.902702",
     "exception": false,
     "start_time": "2024-11-14T06:56:19.465799",
     "status": "completed"
    },
    "tags": []
   },
   "outputs": [
    {
     "name": "stderr",
     "output_type": "stream",
     "text": [
      "/opt/conda/lib/python3.10/site-packages/seaborn/_oldcore.py:1119: FutureWarning: use_inf_as_na option is deprecated and will be removed in a future version. Convert inf values to NaN before operating instead.\n",
      "  with pd.option_context('mode.use_inf_as_na', True):\n"
     ]
    },
    {
     "data": {
      "image/png": "[encoded data removed]",
      "text/plain": [
       "<Figure size 1000x800 with 1 Axes>"
      ]
     },
     "metadata": {},
     "output_type": "display_data"
    }
   ],
   "source": [
    "import seaborn as sns\n",
    "import matplotlib.pyplot as plt\n",
    "\n",
    "full_data[\"checkin_hours\"] = pd.to_datetime(full_data[\"checkin_time\"]).dt.hour\n",
    "\n",
    "\n",
    "plt.figure(figsize=(10, 8))\n",
    "sns.histplot(full_data[\"checkin_hours\"], bins=15, kde=True)\n",
    "plt.xlim(6, 20)\n",
    "plt.xlabel(\"Check in hours\")\n",
    "plt.ylabel(\"Frequency\")\n",
    "plt.title(\"Frequency of Check in hours\")\n",
    "\n",
    "plt.savefig(\"checkin-hours-distribution.png\", format=\"png\")\n",
    "plt.show()"
   ]
  },
  {
   "cell_type": "markdown",
   "id": "1a26e2a6",
   "metadata": {
    "papermill": {
     "duration": 0.030911,
     "end_time": "2024-11-14T06:56:23.967909",
     "exception": false,
     "start_time": "2024-11-14T06:56:23.936998",
     "status": "completed"
    },
    "tags": []
   },
   "source": [
    "### Insights\n",
    "The checkin time ranges from 6am to 8pm and distributed almost equally across all ranges of time.Regardless of time, the gyms constantly be used.And now, I am wondering how long users stay in the facility.(チェックイン時間は6am から　8pmに分布しており、 分布は横ばいです。ユーザーのジム滞在時間を見ていきましょう。)\n"
   ]
  },
  {
   "cell_type": "code",
   "execution_count": 27,
   "id": "2ac659e1",
   "metadata": {
    "execution": {
     "iopub.execute_input": "2024-11-14T06:56:24.033395Z",
     "iopub.status.busy": "2024-11-14T06:56:24.032777Z",
     "iopub.status.idle": "2024-11-14T06:56:24.297313Z",
     "shell.execute_reply": "2024-11-14T06:56:24.295910Z"
    },
    "papermill": {
     "duration": 0.301345,
     "end_time": "2024-11-14T06:56:24.301234",
     "exception": false,
     "start_time": "2024-11-14T06:56:23.999889",
     "status": "completed"
    },
    "tags": []
   },
   "outputs": [],
   "source": [
    "full_data[\"stay_time\"] = pd.to_datetime(full_data[\"checkout_time\"])-pd.to_datetime(full_data[\"checkin_time\"])\n",
    "# convert this into the number in minutes\n",
    "full_data[\"stay_time\"] = full_data[\"stay_time\"].dt.total_seconds() / 60"
   ]
  },
  {
   "cell_type": "code",
   "execution_count": 28,
   "id": "b97cbc3a",
   "metadata": {
    "execution": {
     "iopub.execute_input": "2024-11-14T06:56:24.364465Z",
     "iopub.status.busy": "2024-11-14T06:56:24.364026Z",
     "iopub.status.idle": "2024-11-14T06:56:26.238893Z",
     "shell.execute_reply": "2024-11-14T06:56:26.237500Z"
    },
    "papermill": {
     "duration": 1.90967,
     "end_time": "2024-11-14T06:56:26.241656",
     "exception": false,
     "start_time": "2024-11-14T06:56:24.331986",
     "status": "completed"
    },
    "tags": []
   },
   "outputs": [
    {
     "name": "stderr",
     "output_type": "stream",
     "text": [
      "/opt/conda/lib/python3.10/site-packages/seaborn/_oldcore.py:1119: FutureWarning: use_inf_as_na option is deprecated and will be removed in a future version. Convert inf values to NaN before operating instead.\n",
      "  with pd.option_context('mode.use_inf_as_na', True):\n"
     ]
    },
    {
     "data": {
      "text/plain": [
       "Text(0.5, 1.0, 'Frequency of stay time(min)')"
      ]
     },
     "execution_count": 28,
     "metadata": {},
     "output_type": "execute_result"
    },
    {
     "data": {
      "image/png": "[encoded data removed]",
      "text/plain": [
       "<Figure size 640x480 with 1 Axes>"
      ]
     },
     "metadata": {},
     "output_type": "display_data"
    }
   ],
   "source": [
    "sns.histplot(full_data[\"stay_time\"], bins=30, kde=True)\n",
    "plt.title(\"Frequency of stay time(min)\")"
   ]
  },
  {
   "cell_type": "markdown",
   "id": "32fa97ca",
   "metadata": {
    "papermill": {
     "duration": 0.030712,
     "end_time": "2024-11-14T06:56:26.304158",
     "exception": false,
     "start_time": "2024-11-14T06:56:26.273446",
     "status": "completed"
    },
    "tags": []
   },
   "source": [
    "The time of users using gym is alomst equally distributed across 30 minutes to 180 minutes. The enthusiasim of users toward going to gym widely ranges.（滞在時間はおおよそ30分から180分で、　情熱度合いは様々ですね。）"
   ]
  },
  {
   "cell_type": "markdown",
   "id": "c47fd07c",
   "metadata": {
    "papermill": {
     "duration": 0.031717,
     "end_time": "2024-11-14T06:56:26.369433",
     "exception": false,
     "start_time": "2024-11-14T06:56:26.337716",
     "status": "completed"
    },
    "tags": []
   },
   "source": [
    "### • Workout Type"
   ]
  },
  {
   "cell_type": "code",
   "execution_count": 29,
   "id": "c8a0ccaf",
   "metadata": {
    "execution": {
     "iopub.execute_input": "2024-11-14T06:56:26.433818Z",
     "iopub.status.busy": "2024-11-14T06:56:26.433325Z",
     "iopub.status.idle": "2024-11-14T06:56:27.003207Z",
     "shell.execute_reply": "2024-11-14T06:56:27.001824Z"
    },
    "papermill": {
     "duration": 0.60604,
     "end_time": "2024-11-14T06:56:27.006118",
     "exception": false,
     "start_time": "2024-11-14T06:56:26.400078",
     "status": "completed"
    },
    "tags": []
   },
   "outputs": [
    {
     "data": {
      "image/png": "[encoded data removed]",
      "text/plain": [
       "<Figure size 640x480 with 1 Axes>"
      ]
     },
     "metadata": {},
     "output_type": "display_data"
    }
   ],
   "source": [
    "sns.countplot(x=\"workout_type\", data=full_data)\n",
    "plt.xlabel(\"WorkOut type\")\n",
    "plt.ylabel(\"Count\")\n",
    "plt.title(\"Count of Workout Type\")\n",
    "plt.show()"
   ]
  },
  {
   "cell_type": "markdown",
   "id": "1b5501ef",
   "metadata": {
    "papermill": {
     "duration": 0.031568,
     "end_time": "2024-11-14T06:56:27.069787",
     "exception": false,
     "start_time": "2024-11-14T06:56:27.038219",
     "status": "completed"
    },
    "tags": []
   },
   "source": [
    "### Insight\n",
    "There is no significant difference among the number of puropose of gym usage, as they are almost equally distributed.(人気のワークアウトのタイプにおいては大きな違いは見られません。)"
   ]
  },
  {
   "cell_type": "markdown",
   "id": "ecf47960",
   "metadata": {
    "papermill": {
     "duration": 0.030801,
     "end_time": "2024-11-14T06:56:27.131946",
     "exception": false,
     "start_time": "2024-11-14T06:56:27.101145",
     "status": "completed"
    },
    "tags": []
   },
   "source": [
    "### • Location"
   ]
  },
  {
   "cell_type": "code",
   "execution_count": 30,
   "id": "016f5ade",
   "metadata": {
    "execution": {
     "iopub.execute_input": "2024-11-14T06:56:27.199455Z",
     "iopub.status.busy": "2024-11-14T06:56:27.198992Z",
     "iopub.status.idle": "2024-11-14T06:56:27.871788Z",
     "shell.execute_reply": "2024-11-14T06:56:27.870453Z"
    },
    "papermill": {
     "duration": 0.710429,
     "end_time": "2024-11-14T06:56:27.874590",
     "exception": false,
     "start_time": "2024-11-14T06:56:27.164161",
     "status": "completed"
    },
    "tags": []
   },
   "outputs": [
    {
     "data": {
      "image/png": "[encoded data removed]",
      "text/plain": [
       "<Figure size 640x480 with 1 Axes>"
      ]
     },
     "metadata": {},
     "output_type": "display_data"
    }
   ],
   "source": [
    "sns.countplot(y=\"location\", data=full_data)\n",
    "plt.title(\"Count of each location\")\n",
    "plt.xlabel(\"Location\")\n",
    "plt.ylabel(\"Count\")\n",
    "plt.show()"
   ]
  },
  {
   "cell_type": "markdown",
   "id": "00cd0f72",
   "metadata": {
    "papermill": {
     "duration": 0.031722,
     "end_time": "2024-11-14T06:56:27.938777",
     "exception": false,
     "start_time": "2024-11-14T06:56:27.907055",
     "status": "completed"
    },
    "tags": []
   },
   "source": [
    "### Insight\n",
    "The location of the gym appears not affectes the amount of tiem gym being used（各地に点在しているジムの利用頻度にも大きな差は見られません。）"
   ]
  },
  {
   "cell_type": "markdown",
   "id": "6aacc689",
   "metadata": {
    "papermill": {
     "duration": 0.033787,
     "end_time": "2024-11-14T06:56:28.004094",
     "exception": false,
     "start_time": "2024-11-14T06:56:27.970307",
     "status": "completed"
    },
    "tags": []
   },
   "source": [
    "### Gym Type(ジムのタイプ)"
   ]
  },
  {
   "cell_type": "code",
   "execution_count": 31,
   "id": "804b75dc",
   "metadata": {
    "execution": {
     "iopub.execute_input": "2024-11-14T06:56:28.076117Z",
     "iopub.status.busy": "2024-11-14T06:56:28.074807Z",
     "iopub.status.idle": "2024-11-14T06:56:28.682990Z",
     "shell.execute_reply": "2024-11-14T06:56:28.681643Z"
    },
    "papermill": {
     "duration": 0.646402,
     "end_time": "2024-11-14T06:56:28.685789",
     "exception": false,
     "start_time": "2024-11-14T06:56:28.039387",
     "status": "completed"
    },
    "tags": []
   },
   "outputs": [
    {
     "data": {
      "text/plain": [
       "Text(0.5, 1.0, 'Count of each gym_type')"
      ]
     },
     "execution_count": 31,
     "metadata": {},
     "output_type": "execute_result"
    },
    {
     "data": {
      "image/png": "[encoded data removed]",
      "text/plain": [
       "<Figure size 640x480 with 1 Axes>"
      ]
     },
     "metadata": {},
     "output_type": "display_data"
    }
   ],
   "source": [
    "sns.countplot(x=\"gym_type\", data=full_data)\n",
    "plt.title(\"Count of each gym_type\")"
   ]
  },
  {
   "cell_type": "markdown",
   "id": "ae5a688c",
   "metadata": {
    "papermill": {
     "duration": 0.033974,
     "end_time": "2024-11-14T06:56:28.754825",
     "exception": false,
     "start_time": "2024-11-14T06:56:28.720851",
     "status": "completed"
    },
    "tags": []
   },
   "source": [
    "###　Insight\n",
    "It is obviously the difference of popularity for the gym type among these three types. The premium plan must be most expensive one, yet it still be most popular type. I reckon it is because the quality of its facility meet the users expectations and needs.（プランの人気には顕著な差があり、プレミアム（最高値）、　低価格（最安値）、　スタンダード（中間）の順に推移しています。）"
   ]
  },
  {
   "cell_type": "markdown",
   "id": "8de2fe27",
   "metadata": {
    "papermill": {
     "duration": 0.032604,
     "end_time": "2024-11-14T06:56:28.820237",
     "exception": false,
     "start_time": "2024-11-14T06:56:28.787633",
     "status": "completed"
    },
    "tags": []
   },
   "source": [
    "### Age(年齢)"
   ]
  },
  {
   "cell_type": "code",
   "execution_count": 32,
   "id": "14f41851",
   "metadata": {
    "execution": {
     "iopub.execute_input": "2024-11-14T06:56:28.891007Z",
     "iopub.status.busy": "2024-11-14T06:56:28.890533Z",
     "iopub.status.idle": "2024-11-14T06:56:30.849859Z",
     "shell.execute_reply": "2024-11-14T06:56:30.848210Z"
    },
    "papermill": {
     "duration": 1.997861,
     "end_time": "2024-11-14T06:56:30.852956",
     "exception": false,
     "start_time": "2024-11-14T06:56:28.855095",
     "status": "completed"
    },
    "tags": []
   },
   "outputs": [
    {
     "name": "stderr",
     "output_type": "stream",
     "text": [
      "/opt/conda/lib/python3.10/site-packages/seaborn/_oldcore.py:1119: FutureWarning: use_inf_as_na option is deprecated and will be removed in a future version. Convert inf values to NaN before operating instead.\n",
      "  with pd.option_context('mode.use_inf_as_na', True):\n"
     ]
    },
    {
     "data": {
      "text/plain": [
       "Text(0.5, 1.0, 'Frequency of age of users')"
      ]
     },
     "execution_count": 32,
     "metadata": {},
     "output_type": "execute_result"
    },
    {
     "data": {
      "image/png": "[encoded data removed]",
      "text/plain": [
       "<Figure size 640x480 with 1 Axes>"
      ]
     },
     "metadata": {},
     "output_type": "display_data"
    }
   ],
   "source": [
    "sns.histplot(full_data[\"age\"], bins=47, kde=True)\n",
    "plt.title(\"Frequency of age of users\")"
   ]
  },
  {
   "cell_type": "code",
   "execution_count": 33,
   "id": "52cd16a1",
   "metadata": {
    "execution": {
     "iopub.execute_input": "2024-11-14T06:56:30.924740Z",
     "iopub.status.busy": "2024-11-14T06:56:30.924234Z",
     "iopub.status.idle": "2024-11-14T06:56:31.441454Z",
     "shell.execute_reply": "2024-11-14T06:56:31.439313Z"
    },
    "papermill": {
     "duration": 0.557804,
     "end_time": "2024-11-14T06:56:31.445646",
     "exception": false,
     "start_time": "2024-11-14T06:56:30.887842",
     "status": "completed"
    },
    "tags": []
   },
   "outputs": [
    {
     "name": "stderr",
     "output_type": "stream",
     "text": [
      "/opt/conda/lib/python3.10/site-packages/seaborn/_oldcore.py:1119: FutureWarning: use_inf_as_na option is deprecated and will be removed in a future version. Convert inf values to NaN before operating instead.\n",
      "  with pd.option_context('mode.use_inf_as_na', True):\n"
     ]
    },
    {
     "data": {
      "text/plain": [
       "Text(0.5, 1.0, 'Distributino of age of user in membership')"
      ]
     },
     "execution_count": 33,
     "metadata": {},
     "output_type": "execute_result"
    },
    {
     "data": {
      "image/png": "[encoded data removed]",
      "text/plain": [
       "<Figure size 640x480 with 1 Axes>"
      ]
     },
     "metadata": {},
     "output_type": "display_data"
    }
   ],
   "source": [
    "sns.histplot(users_data[\"age\"], bins=47, kde=True)\n",
    "plt.title(\"Distributino of age of user in membership\")"
   ]
  },
  {
   "cell_type": "markdown",
   "id": "34387b5d",
   "metadata": {
    "papermill": {
     "duration": 0.035419,
     "end_time": "2024-11-14T06:56:31.517559",
     "exception": false,
     "start_time": "2024-11-14T06:56:31.482140",
     "status": "completed"
    },
    "tags": []
   },
   "source": [
    "The figure above represents the freaquency of users's age visiting the gym, while the one below showing the distribution of user's age currentyly in signing up the gym. There is no gab between the number of users actually using the gym and not. It appears that regardless of the age the number of users using the gym doesn't really fractuate. The highest number of gym subscribers are age of 64.\n",
    "（上の図はチェックイン履歴の年齢分布、下は登録者の年齢分布です。ほぼ同様に分布しており実際に登録しているユーザーと彼らの利用実態に大きなギャップはないことがわかります。）"
   ]
  },
  {
   "cell_type": "markdown",
   "id": "1d558fb3",
   "metadata": {
    "papermill": {
     "duration": 0.034702,
     "end_time": "2024-11-14T06:56:31.590561",
     "exception": false,
     "start_time": "2024-11-14T06:56:31.555859",
     "status": "completed"
    },
    "tags": []
   },
   "source": [
    "### Gender（ジェンダー）"
   ]
  },
  {
   "cell_type": "code",
   "execution_count": 34,
   "id": "94e4849a",
   "metadata": {
    "execution": {
     "iopub.execute_input": "2024-11-14T06:56:31.733886Z",
     "iopub.status.busy": "2024-11-14T06:56:31.732505Z",
     "iopub.status.idle": "2024-11-14T06:56:31.974987Z",
     "shell.execute_reply": "2024-11-14T06:56:31.973591Z"
    },
    "papermill": {
     "duration": 0.350784,
     "end_time": "2024-11-14T06:56:31.977860",
     "exception": false,
     "start_time": "2024-11-14T06:56:31.627076",
     "status": "completed"
    },
    "tags": []
   },
   "outputs": [
    {
     "data": {
      "text/plain": [
       "Text(0.5, 1.0, 'User Distribution')"
      ]
     },
     "execution_count": 34,
     "metadata": {},
     "output_type": "execute_result"
    },
    {
     "data": {
      "image/png": "[encoded data removed]",
      "text/plain": [
       "<Figure size 1000x800 with 1 Axes>"
      ]
     },
     "metadata": {},
     "output_type": "display_data"
    }
   ],
   "source": [
    "actual_gender_counts = users_data[\"gender\"].value_counts()\n",
    "\n",
    "def make_autopct(values):\n",
    "    def my_autopct(pct):\n",
    "        total = sum(values)\n",
    "        count = int(round(pct * total / 100.0))\n",
    "        return f'{pct:.1f}%\\n({count} count)'\n",
    "    return my_autopct\n",
    "    \n",
    "plt.figure(figsize=(10, 8))\n",
    "plt.pie(actual_gender_counts, labels=actual_gender_counts.index,\n",
    "        autopct=make_autopct(actual_gender_counts), )\n",
    "plt.title(\"User Distribution\")"
   ]
  },
  {
   "cell_type": "code",
   "execution_count": 35,
   "id": "a634d4f1",
   "metadata": {
    "execution": {
     "iopub.execute_input": "2024-11-14T06:56:32.055841Z",
     "iopub.status.busy": "2024-11-14T06:56:32.055288Z",
     "iopub.status.idle": "2024-11-14T06:56:32.313332Z",
     "shell.execute_reply": "2024-11-14T06:56:32.312008Z"
    },
    "papermill": {
     "duration": 0.299672,
     "end_time": "2024-11-14T06:56:32.316664",
     "exception": false,
     "start_time": "2024-11-14T06:56:32.016992",
     "status": "completed"
    },
    "tags": []
   },
   "outputs": [
    {
     "data": {
      "image/png": "[encoded data removed]",
      "text/plain": [
       "<Figure size 1000x800 with 1 Axes>"
      ]
     },
     "metadata": {},
     "output_type": "display_data"
    }
   ],
   "source": [
    "frequency_gender_counts = full_data[\"gender\"].value_counts()\n",
    "\n",
    "plt.figure(figsize=(10, 8))\n",
    "plt.pie(frequency_gender_counts, labels=frequency_gender_counts.index,\n",
    "       autopct=make_autopct(frequency_gender_counts))\n",
    "plt.title(\"Frequency of Gender\")\n",
    "plt.show()"
   ]
  },
  {
   "cell_type": "markdown",
   "id": "9d6178c1",
   "metadata": {
    "papermill": {
     "duration": 0.038789,
     "end_time": "2024-11-14T06:56:32.393757",
     "exception": false,
     "start_time": "2024-11-14T06:56:32.354968",
     "status": "completed"
    },
    "tags": []
   },
   "source": [
    "There is no gab between the distribution of genders belonging to the gyms and the frequency of gender using the gym（先ほどと同様チェックインデータの年齢分布と登録ユーザーの年齢分布の比較です。こちらもギャップは見られません。先ほどの結果から利用実体に大きなギャップは見られないとわかっていたので当然の結果です。）"
   ]
  },
  {
   "cell_type": "markdown",
   "id": "958948f3",
   "metadata": {
    "papermill": {
     "duration": 0.038812,
     "end_time": "2024-11-14T06:56:32.470220",
     "exception": false,
     "start_time": "2024-11-14T06:56:32.431408",
     "status": "completed"
    },
    "tags": []
   },
   "source": [
    "### • Sign up Data（登録日）\n",
    "\n",
    "It is more efficient as an input to convert this the terms of days being the member of the gym by subtracting the current datetime data.　（登録日は最終集計日時点までの登録日数とも言い換えられるので、そちらをデータとして利用します。）"
   ]
  },
  {
   "cell_type": "code",
   "execution_count": 36,
   "id": "71f826b8",
   "metadata": {
    "execution": {
     "iopub.execute_input": "2024-11-14T06:56:32.545936Z",
     "iopub.status.busy": "2024-11-14T06:56:32.545430Z",
     "iopub.status.idle": "2024-11-14T06:56:34.218565Z",
     "shell.execute_reply": "2024-11-14T06:56:34.217266Z"
    },
    "papermill": {
     "duration": 1.714556,
     "end_time": "2024-11-14T06:56:34.221354",
     "exception": false,
     "start_time": "2024-11-14T06:56:32.506798",
     "status": "completed"
    },
    "tags": []
   },
   "outputs": [
    {
     "name": "stderr",
     "output_type": "stream",
     "text": [
      "/opt/conda/lib/python3.10/site-packages/seaborn/_oldcore.py:1119: FutureWarning: use_inf_as_na option is deprecated and will be removed in a future version. Convert inf values to NaN before operating instead.\n",
      "  with pd.option_context('mode.use_inf_as_na', True):\n"
     ]
    },
    {
     "data": {
      "image/png": "[encoded data removed]",
      "text/plain": [
       "<Figure size 1000x800 with 1 Axes>"
      ]
     },
     "metadata": {},
     "output_type": "display_data"
    }
   ],
   "source": [
    "from datetime import datetime\n",
    "\n",
    "target_date = datetime(2023, 10, 16)\n",
    "full_data[\"subscription_term_days\"] = (target_date - (pd.to_datetime(full_data[\"sign_up_date\"]))).dt.days\n",
    "# transform it in months\n",
    "full_data[\"subscription_term_months\"] = full_data[\"subscription_term_days\"] // 30\n",
    "plt.figure(figsize=(10, 8))\n",
    "sns.histplot(x=\"subscription_term_months\", data=full_data, bins=34, kde=True)\n",
    "plt.title(\"Frequency of terms of subscription\")\n",
    "plt.show()\n"
   ]
  },
  {
   "cell_type": "markdown",
   "id": "d0550c72",
   "metadata": {
    "papermill": {
     "duration": 0.037247,
     "end_time": "2024-11-14T06:56:34.296429",
     "exception": false,
     "start_time": "2024-11-14T06:56:34.259182",
     "status": "completed"
    },
    "tags": []
   },
   "source": [
    "### User Location　（ユーザーのロケーション）"
   ]
  },
  {
   "cell_type": "code",
   "execution_count": 37,
   "id": "446d6679",
   "metadata": {
    "execution": {
     "iopub.execute_input": "2024-11-14T06:56:34.376159Z",
     "iopub.status.busy": "2024-11-14T06:56:34.375708Z",
     "iopub.status.idle": "2024-11-14T06:56:34.979648Z",
     "shell.execute_reply": "2024-11-14T06:56:34.978362Z"
    },
    "papermill": {
     "duration": 0.648998,
     "end_time": "2024-11-14T06:56:34.983523",
     "exception": false,
     "start_time": "2024-11-14T06:56:34.334525",
     "status": "completed"
    },
    "tags": []
   },
   "outputs": [
    {
     "data": {
      "image/png": "[encoded data removed]",
      "text/plain": [
       "<Figure size 640x480 with 1 Axes>"
      ]
     },
     "metadata": {},
     "output_type": "display_data"
    }
   ],
   "source": [
    "sns.countplot(y=\"user_location\", data=full_data)\n",
    "plt.title(\"Frequency of User Location\")\n",
    "plt.show()"
   ]
  },
  {
   "cell_type": "markdown",
   "id": "75f27ed8",
   "metadata": {
    "papermill": {
     "duration": 0.038587,
     "end_time": "2024-11-14T06:56:35.062834",
     "exception": false,
     "start_time": "2024-11-14T06:56:35.024247",
     "status": "completed"
    },
    "tags": []
   },
   "source": [
    "### • Subscription Plan（サブスクプラン）"
   ]
  },
  {
   "cell_type": "code",
   "execution_count": 38,
   "id": "6eb59904",
   "metadata": {
    "execution": {
     "iopub.execute_input": "2024-11-14T06:56:35.144732Z",
     "iopub.status.busy": "2024-11-14T06:56:35.144285Z",
     "iopub.status.idle": "2024-11-14T06:56:35.756060Z",
     "shell.execute_reply": "2024-11-14T06:56:35.754658Z"
    },
    "papermill": {
     "duration": 0.656158,
     "end_time": "2024-11-14T06:56:35.759080",
     "exception": false,
     "start_time": "2024-11-14T06:56:35.102922",
     "status": "completed"
    },
    "tags": []
   },
   "outputs": [
    {
     "data": {
      "text/plain": [
       "Text(0.5, 1.0, 'Frequency of subscription plan')"
      ]
     },
     "execution_count": 38,
     "metadata": {},
     "output_type": "execute_result"
    },
    {
     "data": {
      "image/png": "[encoded data removed]",
      "text/plain": [
       "<Figure size 640x480 with 1 Axes>"
      ]
     },
     "metadata": {},
     "output_type": "display_data"
    }
   ],
   "source": [
    "sns.countplot(y=\"subscription_plan\", data=full_data)\n",
    "plt.title(\"Frequency of subscription plan\")"
   ]
  },
  {
   "cell_type": "markdown",
   "id": "3827a9b2",
   "metadata": {
    "papermill": {
     "duration": 0.038751,
     "end_time": "2024-11-14T06:56:35.837206",
     "exception": false,
     "start_time": "2024-11-14T06:56:35.798455",
     "status": "completed"
    },
    "tags": []
   },
   "source": [
    "## <div style=\"text-align: center; font:Times New Romen; padding:15px; marging: 0; color:white; background-color: #33CCCC; \"><b>Bivariate Analysis</b></div>"
   ]
  },
  {
   "cell_type": "markdown",
   "id": "a1bbcea4",
   "metadata": {
    "papermill": {
     "duration": 0.040467,
     "end_time": "2024-11-14T06:56:35.916773",
     "exception": false,
     "start_time": "2024-11-14T06:56:35.876306",
     "status": "completed"
    },
    "tags": []
   },
   "source": [
    "２データ間の関係性を見ていきます。"
   ]
  },
  {
   "cell_type": "code",
   "execution_count": 39,
   "id": "8b8a3cac",
   "metadata": {
    "execution": {
     "iopub.execute_input": "2024-11-14T06:56:35.998520Z",
     "iopub.status.busy": "2024-11-14T06:56:35.998065Z",
     "iopub.status.idle": "2024-11-14T06:56:36.408182Z",
     "shell.execute_reply": "2024-11-14T06:56:36.406522Z"
    },
    "papermill": {
     "duration": 0.453412,
     "end_time": "2024-11-14T06:56:36.410870",
     "exception": false,
     "start_time": "2024-11-14T06:56:35.957458",
     "status": "completed"
    },
    "tags": []
   },
   "outputs": [
    {
     "name": "stdout",
     "output_type": "stream",
     "text": [
      "<class 'pandas.core.frame.DataFrame'>\n",
      "RangeIndex: 300000 entries, 0 to 299999\n",
      "Data columns (total 20 columns):\n",
      " #   Column                    Non-Null Count   Dtype  \n",
      "---  ------                    --------------   -----  \n",
      " 0   user_id                   300000 non-null  int64  \n",
      " 1   gym_id                    300000 non-null  object \n",
      " 2   checkin_time              300000 non-null  object \n",
      " 3   checkout_time             300000 non-null  object \n",
      " 4   workout_type              300000 non-null  object \n",
      " 5   calories_burned           300000 non-null  int64  \n",
      " 6   location                  300000 non-null  object \n",
      " 7   gym_type                  300000 non-null  object \n",
      " 8   facilities                300000 non-null  object \n",
      " 9   age                       300000 non-null  int64  \n",
      " 10  gender                    300000 non-null  object \n",
      " 11  sign_up_date              300000 non-null  object \n",
      " 12  user_location             300000 non-null  object \n",
      " 13  subscription_plan         300000 non-null  object \n",
      " 14  price_per_month           300000 non-null  float64\n",
      " 15  features                  300000 non-null  object \n",
      " 16  checkin_hours             300000 non-null  int32  \n",
      " 17  stay_time                 300000 non-null  float64\n",
      " 18  subscription_term_days    300000 non-null  int64  \n",
      " 19  subscription_term_months  300000 non-null  int64  \n",
      "dtypes: float64(2), int32(1), int64(5), object(12)\n",
      "memory usage: 44.6+ MB\n"
     ]
    }
   ],
   "source": [
    "full_data.info()"
   ]
  },
  {
   "cell_type": "markdown",
   "id": "d318771a",
   "metadata": {
    "papermill": {
     "duration": 0.038615,
     "end_time": "2024-11-14T06:56:36.489659",
     "exception": false,
     "start_time": "2024-11-14T06:56:36.451044",
     "status": "completed"
    },
    "tags": []
   },
   "source": [
    "### 1. Age and Calories burned　（年齢とカロリー消費）"
   ]
  },
  {
   "cell_type": "code",
   "execution_count": 40,
   "id": "07457b3f",
   "metadata": {
    "execution": {
     "iopub.execute_input": "2024-11-14T06:56:36.570885Z",
     "iopub.status.busy": "2024-11-14T06:56:36.570381Z",
     "iopub.status.idle": "2024-11-14T06:56:37.077036Z",
     "shell.execute_reply": "2024-11-14T06:56:37.075807Z"
    },
    "papermill": {
     "duration": 0.551208,
     "end_time": "2024-11-14T06:56:37.080522",
     "exception": false,
     "start_time": "2024-11-14T06:56:36.529314",
     "status": "completed"
    },
    "tags": []
   },
   "outputs": [
    {
     "data": {
      "text/plain": [
       "Text(0, 0.5, 'Calories Burned')"
      ]
     },
     "execution_count": 40,
     "metadata": {},
     "output_type": "execute_result"
    },
    {
     "data": {
      "image/png": "[encoded data removed]",
      "text/plain": [
       "<Figure size 640x480 with 2 Axes>"
      ]
     },
     "metadata": {},
     "output_type": "display_data"
    }
   ],
   "source": [
    "plt.hexbin(full_data[\"age\"], full_data[\"calories_burned\"], gridsize=20, cmap=\"Blues\")\n",
    "plt.colorbar(label=\"Count\")\n",
    "plt.xlabel(\"Age\")\n",
    "plt.ylabel(\"Calories Burned\")"
   ]
  },
  {
   "cell_type": "markdown",
   "id": "59800978",
   "metadata": {
    "papermill": {
     "duration": 0.039514,
     "end_time": "2024-11-14T06:56:37.163813",
     "exception": false,
     "start_time": "2024-11-14T06:56:37.124299",
     "status": "completed"
    },
    "tags": []
   },
   "source": [
    "It indicates that the most frequently burned calorie range is from about 400 to around 1000 kcal across all ages. The densest area appears between age of late 30s and late 50s, suggesting middle ages individuals tend to burn more calories than younger people. Additionally, there is a noticable concentration of clalories burned among individuals over 60.　（カロリー消費の分布はすべての年齢層においておおよそ400から1000付近に集中していることがわかります。　特にミドルエイジ（３０後半から５０後半のユーザーがよりこの範囲のカロリーを燃やしています。））"
   ]
  },
  {
   "cell_type": "markdown",
   "id": "feee6bf3",
   "metadata": {
    "papermill": {
     "duration": 0.042755,
     "end_time": "2024-11-14T06:56:37.248769",
     "exception": false,
     "start_time": "2024-11-14T06:56:37.206014",
     "status": "completed"
    },
    "tags": []
   },
   "source": [
    "### 2. Age and Supscription Plan（年齢とサブスクプラン）"
   ]
  },
  {
   "cell_type": "code",
   "execution_count": 41,
   "id": "e1014507",
   "metadata": {
    "execution": {
     "iopub.execute_input": "2024-11-14T06:56:37.332802Z",
     "iopub.status.busy": "2024-11-14T06:56:37.332315Z",
     "iopub.status.idle": "2024-11-14T06:56:38.034909Z",
     "shell.execute_reply": "2024-11-14T06:56:38.033012Z"
    },
    "papermill": {
     "duration": 0.74798,
     "end_time": "2024-11-14T06:56:38.038000",
     "exception": false,
     "start_time": "2024-11-14T06:56:37.290020",
     "status": "completed"
    },
    "tags": []
   },
   "outputs": [
    {
     "data": {
      "text/html": [
       "<div>\n",
       "<style scoped>\n",
       "    .dataframe tbody tr th:only-of-type {\n",
       "        vertical-align: middle;\n",
       "    }\n",
       "\n",
       "    .dataframe tbody tr th {\n",
       "        vertical-align: top;\n",
       "    }\n",
       "\n",
       "    .dataframe thead th {\n",
       "        text-align: right;\n",
       "    }\n",
       "</style>\n",
       "<table border=\"1\" class=\"dataframe\">\n",
       "  <thead>\n",
       "    <tr style=\"text-align: right;\">\n",
       "      <th></th>\n",
       "      <th>user_id</th>\n",
       "      <th>gym_id</th>\n",
       "      <th>checkin_time</th>\n",
       "      <th>checkout_time</th>\n",
       "      <th>workout_type</th>\n",
       "      <th>calories_burned</th>\n",
       "      <th>location</th>\n",
       "      <th>gym_type</th>\n",
       "      <th>facilities</th>\n",
       "      <th>age</th>\n",
       "      <th>gender</th>\n",
       "      <th>sign_up_date</th>\n",
       "      <th>user_location</th>\n",
       "      <th>subscription_plan</th>\n",
       "      <th>price_per_month</th>\n",
       "      <th>features</th>\n",
       "      <th>checkin_hours</th>\n",
       "      <th>stay_time</th>\n",
       "      <th>subscription_term_days</th>\n",
       "      <th>subscription_term_months</th>\n",
       "    </tr>\n",
       "  </thead>\n",
       "  <tbody>\n",
       "    <tr>\n",
       "      <th>0</th>\n",
       "      <td>1</td>\n",
       "      <td>gym_8</td>\n",
       "      <td>2023-03-19 08:22:00</td>\n",
       "      <td>2023-03-19 10:36:00</td>\n",
       "      <td>Swimming</td>\n",
       "      <td>468</td>\n",
       "      <td>San Diego</td>\n",
       "      <td>Standard</td>\n",
       "      <td>Basketball Court, Sauna, CrossFit</td>\n",
       "      <td>56</td>\n",
       "      <td>Female</td>\n",
       "      <td>2023-02-06</td>\n",
       "      <td>Denver</td>\n",
       "      <td>Basic</td>\n",
       "      <td>19.99</td>\n",
       "      <td>Access to basic gym facilities, Limited class ...</td>\n",
       "      <td>8</td>\n",
       "      <td>134.0</td>\n",
       "      <td>252</td>\n",
       "      <td>8</td>\n",
       "    </tr>\n",
       "    <tr>\n",
       "      <th>1</th>\n",
       "      <td>2</td>\n",
       "      <td>gym_2</td>\n",
       "      <td>2023-01-17 20:55:00</td>\n",
       "      <td>2023-01-17 23:51:00</td>\n",
       "      <td>Swimming</td>\n",
       "      <td>940</td>\n",
       "      <td>Los Angeles</td>\n",
       "      <td>Budget</td>\n",
       "      <td>Climbing Wall, Yoga Classes, Sauna</td>\n",
       "      <td>46</td>\n",
       "      <td>Non-binary</td>\n",
       "      <td>2023-08-08</td>\n",
       "      <td>Orlando</td>\n",
       "      <td>Pro</td>\n",
       "      <td>49.99</td>\n",
       "      <td>Access to all facilities, Unlimited class acce...</td>\n",
       "      <td>20</td>\n",
       "      <td>176.0</td>\n",
       "      <td>69</td>\n",
       "      <td>2</td>\n",
       "    </tr>\n",
       "    <tr>\n",
       "      <th>2</th>\n",
       "      <td>3</td>\n",
       "      <td>gym_10</td>\n",
       "      <td>2023-01-25 17:16:00</td>\n",
       "      <td>2023-01-25 18:32:00</td>\n",
       "      <td>CrossFit</td>\n",
       "      <td>520</td>\n",
       "      <td>San Jose</td>\n",
       "      <td>Premium</td>\n",
       "      <td>Swimming Pool, Sauna, CrossFit</td>\n",
       "      <td>32</td>\n",
       "      <td>Female</td>\n",
       "      <td>2021-01-11</td>\n",
       "      <td>Orlando</td>\n",
       "      <td>Basic</td>\n",
       "      <td>19.99</td>\n",
       "      <td>Access to basic gym facilities, Limited class ...</td>\n",
       "      <td>17</td>\n",
       "      <td>76.0</td>\n",
       "      <td>1008</td>\n",
       "      <td>33</td>\n",
       "    </tr>\n",
       "    <tr>\n",
       "      <th>3</th>\n",
       "      <td>4</td>\n",
       "      <td>gym_8</td>\n",
       "      <td>2023-04-16 08:35:00</td>\n",
       "      <td>2023-04-16 09:59:00</td>\n",
       "      <td>Swimming</td>\n",
       "      <td>826</td>\n",
       "      <td>San Diego</td>\n",
       "      <td>Standard</td>\n",
       "      <td>Basketball Court, Sauna, CrossFit</td>\n",
       "      <td>60</td>\n",
       "      <td>Male</td>\n",
       "      <td>2023-08-07</td>\n",
       "      <td>Denver</td>\n",
       "      <td>Pro</td>\n",
       "      <td>49.99</td>\n",
       "      <td>Access to all facilities, Unlimited class acce...</td>\n",
       "      <td>8</td>\n",
       "      <td>84.0</td>\n",
       "      <td>70</td>\n",
       "      <td>2</td>\n",
       "    </tr>\n",
       "    <tr>\n",
       "      <th>4</th>\n",
       "      <td>5</td>\n",
       "      <td>gym_3</td>\n",
       "      <td>2023-01-13 16:45:00</td>\n",
       "      <td>2023-01-13 18:21:00</td>\n",
       "      <td>Yoga</td>\n",
       "      <td>577</td>\n",
       "      <td>Chicago</td>\n",
       "      <td>Budget</td>\n",
       "      <td>Sauna, Climbing Wall, Swimming Pool</td>\n",
       "      <td>25</td>\n",
       "      <td>Female</td>\n",
       "      <td>2021-01-08</td>\n",
       "      <td>Denver</td>\n",
       "      <td>Basic</td>\n",
       "      <td>19.99</td>\n",
       "      <td>Access to basic gym facilities, Limited class ...</td>\n",
       "      <td>16</td>\n",
       "      <td>96.0</td>\n",
       "      <td>1011</td>\n",
       "      <td>33</td>\n",
       "    </tr>\n",
       "    <tr>\n",
       "      <th>...</th>\n",
       "      <td>...</td>\n",
       "      <td>...</td>\n",
       "      <td>...</td>\n",
       "      <td>...</td>\n",
       "      <td>...</td>\n",
       "      <td>...</td>\n",
       "      <td>...</td>\n",
       "      <td>...</td>\n",
       "      <td>...</td>\n",
       "      <td>...</td>\n",
       "      <td>...</td>\n",
       "      <td>...</td>\n",
       "      <td>...</td>\n",
       "      <td>...</td>\n",
       "      <td>...</td>\n",
       "      <td>...</td>\n",
       "      <td>...</td>\n",
       "      <td>...</td>\n",
       "      <td>...</td>\n",
       "      <td>...</td>\n",
       "    </tr>\n",
       "    <tr>\n",
       "      <th>4995</th>\n",
       "      <td>4996</td>\n",
       "      <td>gym_9</td>\n",
       "      <td>2023-03-21 07:59:00</td>\n",
       "      <td>2023-03-21 09:57:00</td>\n",
       "      <td>Yoga</td>\n",
       "      <td>996</td>\n",
       "      <td>Dallas</td>\n",
       "      <td>Premium</td>\n",
       "      <td>Sauna, CrossFit, Yoga Classes</td>\n",
       "      <td>33</td>\n",
       "      <td>Male</td>\n",
       "      <td>2021-08-08</td>\n",
       "      <td>Las Vegas</td>\n",
       "      <td>Basic</td>\n",
       "      <td>19.99</td>\n",
       "      <td>Access to basic gym facilities, Limited class ...</td>\n",
       "      <td>7</td>\n",
       "      <td>118.0</td>\n",
       "      <td>799</td>\n",
       "      <td>26</td>\n",
       "    </tr>\n",
       "    <tr>\n",
       "      <th>4996</th>\n",
       "      <td>4997</td>\n",
       "      <td>gym_4</td>\n",
       "      <td>2023-09-29 20:31:00</td>\n",
       "      <td>2023-09-29 21:49:00</td>\n",
       "      <td>Yoga</td>\n",
       "      <td>312</td>\n",
       "      <td>Houston</td>\n",
       "      <td>Premium</td>\n",
       "      <td>Climbing Wall, Basketball Court, Swimming Pool</td>\n",
       "      <td>22</td>\n",
       "      <td>Male</td>\n",
       "      <td>2023-01-22</td>\n",
       "      <td>Austin</td>\n",
       "      <td>Student</td>\n",
       "      <td>9.99</td>\n",
       "      <td>Access to basic facilities, Limited class acce...</td>\n",
       "      <td>20</td>\n",
       "      <td>78.0</td>\n",
       "      <td>267</td>\n",
       "      <td>8</td>\n",
       "    </tr>\n",
       "    <tr>\n",
       "      <th>4997</th>\n",
       "      <td>4998</td>\n",
       "      <td>gym_1</td>\n",
       "      <td>2023-06-20 13:51:00</td>\n",
       "      <td>2023-06-20 15:59:00</td>\n",
       "      <td>Yoga</td>\n",
       "      <td>393</td>\n",
       "      <td>New York</td>\n",
       "      <td>Premium</td>\n",
       "      <td>Climbing Wall, Swimming Pool, Basketball Court</td>\n",
       "      <td>38</td>\n",
       "      <td>Non-binary</td>\n",
       "      <td>2021-04-16</td>\n",
       "      <td>Atlanta</td>\n",
       "      <td>Pro</td>\n",
       "      <td>49.99</td>\n",
       "      <td>Access to all facilities, Unlimited class acce...</td>\n",
       "      <td>13</td>\n",
       "      <td>128.0</td>\n",
       "      <td>913</td>\n",
       "      <td>30</td>\n",
       "    </tr>\n",
       "    <tr>\n",
       "      <th>4998</th>\n",
       "      <td>4999</td>\n",
       "      <td>gym_6</td>\n",
       "      <td>2023-08-31 08:21:00</td>\n",
       "      <td>2023-08-31 09:23:00</td>\n",
       "      <td>Cardio</td>\n",
       "      <td>1939</td>\n",
       "      <td>Philadelphia</td>\n",
       "      <td>Budget</td>\n",
       "      <td>Swimming Pool, Climbing Wall, Sauna</td>\n",
       "      <td>27</td>\n",
       "      <td>Male</td>\n",
       "      <td>2022-07-02</td>\n",
       "      <td>Denver</td>\n",
       "      <td>Pro</td>\n",
       "      <td>49.99</td>\n",
       "      <td>Access to all facilities, Unlimited class acce...</td>\n",
       "      <td>8</td>\n",
       "      <td>62.0</td>\n",
       "      <td>471</td>\n",
       "      <td>15</td>\n",
       "    </tr>\n",
       "    <tr>\n",
       "      <th>4999</th>\n",
       "      <td>5000</td>\n",
       "      <td>gym_5</td>\n",
       "      <td>2023-07-10 20:36:00</td>\n",
       "      <td>2023-07-10 23:33:00</td>\n",
       "      <td>CrossFit</td>\n",
       "      <td>1944</td>\n",
       "      <td>Phoenix</td>\n",
       "      <td>Standard</td>\n",
       "      <td>Basketball Court, CrossFit, Swimming Pool</td>\n",
       "      <td>36</td>\n",
       "      <td>Male</td>\n",
       "      <td>2022-02-20</td>\n",
       "      <td>Seattle</td>\n",
       "      <td>Student</td>\n",
       "      <td>9.99</td>\n",
       "      <td>Access to basic facilities, Limited class acce...</td>\n",
       "      <td>20</td>\n",
       "      <td>177.0</td>\n",
       "      <td>603</td>\n",
       "      <td>20</td>\n",
       "    </tr>\n",
       "  </tbody>\n",
       "</table>\n",
       "<p>5000 rows × 20 columns</p>\n",
       "</div>"
      ],
      "text/plain": [
       "      user_id  gym_id         checkin_time        checkout_time workout_type  \\\n",
       "0           1   gym_8  2023-03-19 08:22:00  2023-03-19 10:36:00     Swimming   \n",
       "1           2   gym_2  2023-01-17 20:55:00  2023-01-17 23:51:00     Swimming   \n",
       "2           3  gym_10  2023-01-25 17:16:00  2023-01-25 18:32:00     CrossFit   \n",
       "3           4   gym_8  2023-04-16 08:35:00  2023-04-16 09:59:00     Swimming   \n",
       "4           5   gym_3  2023-01-13 16:45:00  2023-01-13 18:21:00         Yoga   \n",
       "...       ...     ...                  ...                  ...          ...   \n",
       "4995     4996   gym_9  2023-03-21 07:59:00  2023-03-21 09:57:00         Yoga   \n",
       "4996     4997   gym_4  2023-09-29 20:31:00  2023-09-29 21:49:00         Yoga   \n",
       "4997     4998   gym_1  2023-06-20 13:51:00  2023-06-20 15:59:00         Yoga   \n",
       "4998     4999   gym_6  2023-08-31 08:21:00  2023-08-31 09:23:00       Cardio   \n",
       "4999     5000   gym_5  2023-07-10 20:36:00  2023-07-10 23:33:00     CrossFit   \n",
       "\n",
       "      calories_burned      location  gym_type  \\\n",
       "0                 468     San Diego  Standard   \n",
       "1                 940   Los Angeles    Budget   \n",
       "2                 520      San Jose   Premium   \n",
       "3                 826     San Diego  Standard   \n",
       "4                 577       Chicago    Budget   \n",
       "...               ...           ...       ...   \n",
       "4995              996        Dallas   Premium   \n",
       "4996              312       Houston   Premium   \n",
       "4997              393      New York   Premium   \n",
       "4998             1939  Philadelphia    Budget   \n",
       "4999             1944       Phoenix  Standard   \n",
       "\n",
       "                                          facilities  age      gender  \\\n",
       "0                  Basketball Court, Sauna, CrossFit   56      Female   \n",
       "1                 Climbing Wall, Yoga Classes, Sauna   46  Non-binary   \n",
       "2                     Swimming Pool, Sauna, CrossFit   32      Female   \n",
       "3                  Basketball Court, Sauna, CrossFit   60        Male   \n",
       "4                Sauna, Climbing Wall, Swimming Pool   25      Female   \n",
       "...                                              ...  ...         ...   \n",
       "4995                   Sauna, CrossFit, Yoga Classes   33        Male   \n",
       "4996  Climbing Wall, Basketball Court, Swimming Pool   22        Male   \n",
       "4997  Climbing Wall, Swimming Pool, Basketball Court   38  Non-binary   \n",
       "4998             Swimming Pool, Climbing Wall, Sauna   27        Male   \n",
       "4999       Basketball Court, CrossFit, Swimming Pool   36        Male   \n",
       "\n",
       "     sign_up_date user_location subscription_plan  price_per_month  \\\n",
       "0      2023-02-06        Denver             Basic            19.99   \n",
       "1      2023-08-08       Orlando               Pro            49.99   \n",
       "2      2021-01-11       Orlando             Basic            19.99   \n",
       "3      2023-08-07        Denver               Pro            49.99   \n",
       "4      2021-01-08        Denver             Basic            19.99   \n",
       "...           ...           ...               ...              ...   \n",
       "4995   2021-08-08     Las Vegas             Basic            19.99   \n",
       "4996   2023-01-22        Austin           Student             9.99   \n",
       "4997   2021-04-16       Atlanta               Pro            49.99   \n",
       "4998   2022-07-02        Denver               Pro            49.99   \n",
       "4999   2022-02-20       Seattle           Student             9.99   \n",
       "\n",
       "                                               features  checkin_hours  \\\n",
       "0     Access to basic gym facilities, Limited class ...              8   \n",
       "1     Access to all facilities, Unlimited class acce...             20   \n",
       "2     Access to basic gym facilities, Limited class ...             17   \n",
       "3     Access to all facilities, Unlimited class acce...              8   \n",
       "4     Access to basic gym facilities, Limited class ...             16   \n",
       "...                                                 ...            ...   \n",
       "4995  Access to basic gym facilities, Limited class ...              7   \n",
       "4996  Access to basic facilities, Limited class acce...             20   \n",
       "4997  Access to all facilities, Unlimited class acce...             13   \n",
       "4998  Access to all facilities, Unlimited class acce...              8   \n",
       "4999  Access to basic facilities, Limited class acce...             20   \n",
       "\n",
       "      stay_time  subscription_term_days  subscription_term_months  \n",
       "0         134.0                     252                         8  \n",
       "1         176.0                      69                         2  \n",
       "2          76.0                    1008                        33  \n",
       "3          84.0                      70                         2  \n",
       "4          96.0                    1011                        33  \n",
       "...         ...                     ...                       ...  \n",
       "4995      118.0                     799                        26  \n",
       "4996       78.0                     267                         8  \n",
       "4997      128.0                     913                        30  \n",
       "4998       62.0                     471                        15  \n",
       "4999      177.0                     603                        20  \n",
       "\n",
       "[5000 rows x 20 columns]"
      ]
     },
     "execution_count": 41,
     "metadata": {},
     "output_type": "execute_result"
    }
   ],
   "source": [
    "unique_user = full_data.groupby(\"user_id\").first().sort_values(by=\"user_id\").reset_index()\n",
    "unique_user"
   ]
  },
  {
   "cell_type": "code",
   "execution_count": 42,
   "id": "064728c7",
   "metadata": {
    "execution": {
     "iopub.execute_input": "2024-11-14T06:56:38.127172Z",
     "iopub.status.busy": "2024-11-14T06:56:38.125610Z",
     "iopub.status.idle": "2024-11-14T06:56:38.395949Z",
     "shell.execute_reply": "2024-11-14T06:56:38.393836Z"
    },
    "papermill": {
     "duration": 0.316614,
     "end_time": "2024-11-14T06:56:38.398961",
     "exception": false,
     "start_time": "2024-11-14T06:56:38.082347",
     "status": "completed"
    },
    "tags": []
   },
   "outputs": [
    {
     "data": {
      "image/png": "[encoded data removed]",
      "text/plain": [
       "<Figure size 640x480 with 1 Axes>"
      ]
     },
     "metadata": {},
     "output_type": "display_data"
    }
   ],
   "source": [
    "sns.boxplot(x=\"age\", y=\"subscription_plan\", data=unique_user)\n",
    "plt.savefig(\"subscriptino plan box plot\")"
   ]
  },
  {
   "cell_type": "markdown",
   "id": "05bc3fd3",
   "metadata": {
    "papermill": {
     "duration": 0.043048,
     "end_time": "2024-11-14T06:56:38.484254",
     "exception": false,
     "start_time": "2024-11-14T06:56:38.441206",
     "status": "completed"
    },
    "tags": []
   },
   "source": [
    "### Insight\n",
    "Each subscription plan has a fairly balanced age distribution across the middle age ranges.(すべての年齢において３つそれぞれのプランへの加入に偏りは見られません。)\n",
    "\n",
    "Next, I am goint to see the preference of choise based on their age.(年齢別のプラン選択の傾向を見ていきます)\n"
   ]
  },
  {
   "cell_type": "markdown",
   "id": "f11e07cc",
   "metadata": {
    "papermill": {
     "duration": 0.040688,
     "end_time": "2024-11-14T06:56:38.569360",
     "exception": false,
     "start_time": "2024-11-14T06:56:38.528672",
     "status": "completed"
    },
    "tags": []
   },
   "source": [
    "## Preprocess across the each data frame"
   ]
  },
  {
   "cell_type": "markdown",
   "id": "33f0c8bf",
   "metadata": {
    "papermill": {
     "duration": 0.043716,
     "end_time": "2024-11-14T06:56:38.655072",
     "exception": false,
     "start_time": "2024-11-14T06:56:38.611356",
     "status": "completed"
    },
    "tags": []
   },
   "source": [
    "The dataset primarily consist of columns with data in the object type, which are not directly suitable for machine learning models. I need to preprocess the data to make them suitable for machine learning models, for example by dropping uninformative columns and encoding the categorical data."
   ]
  },
  {
   "cell_type": "markdown",
   "id": "bfbf27bf",
   "metadata": {
    "papermill": {
     "duration": 0.04146,
     "end_time": "2024-11-14T06:56:38.737996",
     "exception": false,
     "start_time": "2024-11-14T06:56:38.696536",
     "status": "completed"
    },
    "tags": []
   },
   "source": []
  }
 ],
 "metadata": {
  "kaggle": {
   "accelerator": "none",
   "dataSources": [
    {
     "datasetId": 5880677,
     "sourceId": 9632430,
     "sourceType": "datasetVersion"
    }
   ],
   "dockerImageVersionId": 30786,
   "isGpuEnabled": false,
   "isInternetEnabled": true,
   "language": "python",
   "sourceType": "notebook"
  },
  "kernelspec": {
   "display_name": "Python 3",
   "language": "python",
   "name": "python3"
  },
  "language_info": {
   "codemirror_mode": {
    "name": "ipython",
    "version": 3
   },
   "file_extension": ".py",
   "mimetype": "text/x-python",
   "name": "python",
   "nbconvert_exporter": "python",
   "pygments_lexer": "ipython3",
   "version": "3.10.14"
  },
  "papermill": {
   "default_parameters": {},
   "duration": 34.916031,
   "end_time": "2024-11-14T06:56:39.605276",
   "environment_variables": {},
   "exception": null,
   "input_path": "__notebook__.ipynb",
   "output_path": "__notebook__.ipynb",
   "parameters": {},
   "start_time": "2024-11-14T06:56:04.689245",
   "version": "2.6.0"
  }
 },
 "nbformat": 4,
 "nbformat_minor": 5
}
